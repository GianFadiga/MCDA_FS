{
  "cells": [
    {
      "cell_type": "markdown",
      "metadata": {
        "id": "view-in-github",
        "colab_type": "text"
      },
      "source": [
        "<a href=\"https://colab.research.google.com/github/GianFadiga/MCDA_FS/blob/main/MCDA_UT.ipynb\" target=\"_parent\"><img src=\"https://colab.research.google.com/assets/colab-badge.svg\" alt=\"Open In Colab\"/></a>"
      ]
    },
    {
      "cell_type": "markdown",
      "metadata": {
        "id": "9Zdu7ECB-pJ5"
      },
      "source": [
        "# Projeto Iniciação Científica: Criação da Ferramenta"
      ]
    },
    {
      "cell_type": "markdown",
      "metadata": {
        "id": "VGRR82au-pJ9"
      },
      "source": [
        "## Início"
      ]
    },
    {
      "cell_type": "markdown",
      "metadata": {
        "id": "5JHLa2sZ-pJ-"
      },
      "source": [
        "-> O projeto consiste no desenvolvimento de uma ferramente para ajuda na tomada de decições complexas, para tal, será necessário estudar e aplicar os seguintes conceitos/passos:\n",
        "> - Função de valor\n",
        ">> - Pré - Mapeamento de critérios\n",
        "> - Pesos\n",
        "> - Avaliação de alternativas\n",
        ">> - Gráficos ao final mostrando critérios (e pesos?)\n",
        "\n",
        "-> Os desempenhos serão informados ao sistema\n",
        "-> Ponderamento das características\n",
        "-> \"Termômetro\" e Booleans\n",
        "\n",
        "-> Base de Dados: Ainda não definida\n",
        "> Inicialmente desenvolver uma leve pesquisa e agrumamento de dados simples (Ex: Notebooks para compra)\n",
        "\n",
        "-> Referências Bibliográficas:\n",
        "- INDICADORES DE SUSTENTABILIDADE EM ENGENHARIA: COMO DESENVOLVER - Autores: FANTINATTI; ZUFFO; ARGOLO."
      ]
    },
    {
      "cell_type": "markdown",
      "metadata": {
        "id": "04AiSfjR-pJ_"
      },
      "source": [
        "## Ferramentas necessárias"
      ]
    },
    {
      "cell_type": "markdown",
      "metadata": {
        "id": "kZxcYCNW-pKA"
      },
      "source": [
        "> -> Programação em Python 3.07 ou 3.10\n",
        ">> Bibliotecas\n",
        ">>> - Pandas (Ex: DataFrame)\n",
        ">>> - Numpy (Ex: Matrizes)\n",
        ">>> - Matplotlib (Ex: Gráficos fixos)\n",
        ">>> - Pyplot (Ex: Gráficos responsivos (express e go))"
      ]
    },
    {
      "cell_type": "markdown",
      "metadata": {
        "id": "S9ZpHloq-pKB"
      },
      "source": [
        "## Anotações"
      ]
    },
    {
      "cell_type": "markdown",
      "metadata": {
        "id": "rEELK1UK-pKC"
      },
      "source": [
        "### Pré-Análise\n",
        "- Abrir os arquivos utilizando a plataforma do Google Office ou LibreOffice (Softwares da Microsoft não funcionam bem para estas extensões)\n",
        "\n",
        "### Apresentação de slides\n",
        "- Necessário definir bem os critérios e a forma como trabalhar cada um desles (ponderamento)\n",
        "- Diferenciação entre **escalas semânticas** e **escalas numéricas** (o que pode e não pode ser número)\\\n",
        "&nbsp;- Interessante uma coluna extra na base de dados com comentários (tipo text) para algo adicional que não seja cabível nos critérios de forma direta\n",
        "- Criação de uma forma intuitiva de como definir os pesos de cada critério, não sendo necessário que seja utilizado números de forma direta (Ex: Utilizar indicadores de desempenho (como forma de ponderamento) sem a utilização de números visualmente (o sistema deverá compreender e interpretar cada indicador)\n",
        "- Inicialmente os critérios serão fixos e estarão na base de dados (uma vez que diversos dados de diferentes fontes podem não conter tal informação (Ex: não terá informação de peso para um critério ou tal critério não está contido na base de dados))\n",
        "- Estar atento para grandezas de **proporção direta e inversamente proporcionais** (Ex: Rendimento de um automóvel por litro de combustível)\n",
        "- A média de um critério pode ser maior que a média de outro critério, mas o critério de maior peso não poderá ser maior que o critério de menor peso\n",
        "\n",
        "### Critérios\n",
        "- **Essencial:** o critério deve levar em conta os aspectos de fundamental importancia segundo o sistema de valores dos decisores\n",
        "- **Controlável:** o critério deve representar um aspecto que seja influenciado apenas pelas ações potenciais\n",
        "- **Completo:** o conjunto de critérios deve incluir todos os aspectos considerados como fudamentais pelos decisores\n",
        "- **Mensurável:** o critério permite especificar, com a menor dúvida possível, a performance das ações pontenciais, segundos os aspectos considerados fundamentais pelos decisores\n",
        "- **Operacional:** o critério possibilita coletar as informações requeridas sobre a perfomance das ações pontenciais, dentro do tempo possível e com esforço viável\n",
        "- **Isolável:** o critério permite a análise de aspecto fundamental de forma independente com relação aos demais aspectos do conjunto\n",
        "- **Não-Redundante:** o conjunto de critérios não deve levar em conta o mesmo aspecto mais de uma vez\n",
        "- **Conciso:** o número de aspectos considerados pelo conjunto de critérios deve ser o mínimo necessário para modelar de forma adequada o problema, segundo a visão dos decisores\n",
        "- **Compreensível:** o critério deve ter o seu significado claro para os decisores, permitindo a geração e comunicação de ideias\n",
        "\n",
        "### Gráficos apresentados (função de valor)\n",
        "- É possível analisar de forma simples a formatação e construção dos gráficos baseado na necessidade e dos critérios\n",
        "- Um gráfico para cada critério pode ser utilizado e no final um único gráfico geral (ponderamento e grandezas proporcionais e inversamente proporcionais)\n",
        "- Não há tanto foco nos números e sim na parte visual (usar gráficos responsivos)\n",
        "- Legendas, título, eixos, etc. totalmente necessários para compreendimento do gráfico\n",
        "- Criar uma forma geral a ser trabalhada (critérios e desempenho) antes de comparar com as opções disponíveis\n",
        "\n",
        "### Anotações de desenvolvimento do projeto:\n",
        ">Anotação 1\n",
        "- É necessário relacionar não só a quantidade de RAM (por exemplo), mas também o seu nome (já que BOM pode receber 4gb e 4GB também pode receber 4 como valor)\n",
        "- Alguns critérios devem levar em consideração o ano de fabricação, não faz sentido que um computador vendido em 2022 possa ter algo menor que 4gb de ram (considerando tecnologias novas, ainda é necessário considerar a marca positivo com 2gb em alguns modelos) ou valores quebrados como 6gb que não são padrão de fábrica e portanto devem ser desconsiderados\n",
        "- **Necessário analisar a melhor forma de montar os gráficos e a quantia de elementos necessários visualmente (evitar poluição visual)**\n",
        "- Decidir entre plotly express e plotly go (aparentemente o go possui mais customização mas é mais demorado para utilizar)\n",
        "- A escala de cores pode ser contínua ou então discrepante, no caso, contínua mantém uma melhor precisão (isso se usada sem configurar, pode-se analisar a possibilidade de inserção de uma cadeia de \"if\"s para controlar as quantias) - 06/04 Resolvido por meio do uso de index e valores que delimitam as cores (vide código)\n",
        "\n",
        ">Anotação 2\n",
        "- É necessário encontrar um método de remover da visualização de todos os gráficos os indicativos de números (a ideia de quantidade não numeral é mais interessante para comparação) - (remove axes visualization)\n",
        "- É necessário alterar as legendas, os títulos e os nomes dos eixos de forma a serem mais claros e intuitivos\n",
        "- Decidir se os gráficos devem utilizar uma cor só ou diversas cores (discrete or continuous)\n",
        "- Fora atribuído um novo esquema de gráfico que delimita por cores o que é bom e acima e o que é neutro e abaixo\n",
        "- O gráfico é funcional e atende bem as necessidades até então propostas, à partir de agora focarei nas funções de valor e na criação de mais gráficos (redundância do que já foi feito) para continuar desenvolvendo e melhor compreensão do problema\n",
        "\n",
        ">Anotação 3\n",
        "- Apresentado conceito inicial do trabalho para o orientador\n",
        "- Sujestão da criação de diferentes cores para visualização\n",
        "- Criar diversas versões do gráfico (x sempre positivo e x recebendo valores negativo)\n",
        "- Anotações do livro (a serem usadas e implementadas depois)\n",
        "\n",
        ">Anotação 4\n",
        "- Sistema de cores (com base em daltônicos) criado com sucesso, são cores simples mas que ajudam na visualização dos dados de maneira correta e facilitada\n",
        "- Incicio da criação de gráficos de barras (com base em daltônicos)\n",
        "- Inicio do processo de criação do segundo modelo de gráfico\n",
        "- Anotações e leitura do livro\n",
        "- Começar a definir melhor equação e método de programação para classificar o montante relacional (relação neutro com demais valores)\n",
        "\n",
        ">Anotação 5\n",
        "- Criação do indicador da linha central (neutro)\n",
        "- Criação de um indicador para a linha central (neutro)\n",
        "- Estilização da linha central (neutro)\n",
        "- Mudança no cálculo das distâncias (em % com cálculos e equações mais simples e importantes para o montante relacional)\n",
        "- Início de implementação e estilização de hovers (mouse sobre desempenho)\n",
        "\n",
        ">Anotação 6\n",
        "- Melhorias de indicadores e do visual\n",
        "- Necessário implementar melhor visualização do hover (inicial até o momento)\n",
        "- Refeito cálculo de distâncias (em %) e sua organização \n",
        "- Leitura do livro\n",
        "- Cálculo do montante relacional resolvido, necessário agora implementar maneira mais limpa e simples de calcular (pandas iloc?)\n",
        "\n",
        ">Anotação 7\n",
        "- Hover não funcionou como deveria por conta das variáveis mistas, é preciso reavaliar a ferramenta (comentada para melhores detalhes e tentativasa anteriores)\n",
        "- Montante Relacional funcional\n",
        "- Cálculos de distância funcionais, todavia para Hover não surtiu efeitos\n",
        "- Melhor aspecto visual do gráfico\n",
        "\n",
        ">Anotação 8\n",
        "- Resolver problemas referentes aos indicadores de desempenho e porcentagem\n",
        "- Início da criação dos gráficos e variáveis não numéricas\n",
        "- Decidir se usará a faixa neutra ou os valores absolutos (melhorar a visualização ou deixar ela representando a realidade?)\n",
        "\n",
        ">Anotação 9\n",
        "- Correção de bugs e melhorias de visualização\n",
        "- Correção das cores dos classificadores e dos desempenhos\n",
        "- Criação cores variadas para a linha neutra (respeitando cores para daltônicos)\n",
        "- Leitura do livro para criação das variáveis não numéricas\n",
        "- Estilização de cores da linha neutra variável\n",
        "\n",
        ">Anotação 10\n",
        "- Para criar os critérios o usuário deverá inserir todos os valores referentes aos desempenhos do item ao qual deseja analisar (1 ou mais, exemplo do celular)\n",
        "- Dividir em 5 categorias (0 - 20% (Nada desejável), 20 - 40% (Pouco desejável), 40 - 60% (Médio desejável), 60 - 80% (Bem desejável), 80 - 100% (Muito desejável))\n",
        "- Criar gráfico de \"torre\" com os desempenhos\n",
        "- Confirmação de sair do programa e salvar os gráficos como imagem em um único pdf (a definir diretório)\n",
        "- Idealização da interface final\n",
        "- Projetificação para uso web\n",
        "- Pensar na forma de retratar preços e valores\n",
        "\n",
        ">Anotação 11\n",
        "- Pesquisa de método para criar slider para os valores\n",
        "- As cores deverão ser escolhidas na tela inicial\n",
        "\n",
        ">Anotação 12\n",
        "- Estalibilização da interface\n",
        "- Correção da geração das cores\n",
        "- Escrita de parte principal \n",
        "\n",
        ">Anotação 13\n",
        "- Atualização do método de geração do gráfico para valores não numéricos\n",
        "- Atualização do esquema de cores\n",
        "- Necessidade de criar método geral para geração de linhas\n",
        "- Mudar o \"hover\" para um método mais simples e de melhor visualização (semelhante ao anterior)\n",
        "\n",
        ">Anotação 14\n",
        "- Valores atualizados\n",
        "- Novas opções para a visualização dos elementos no gráfico 3 (modelos diferentes de marcadores)\n",
        "- Hover data alterado (necessário definir nome genérico para coluna)\n",
        "- Lembrar de que os valores referentes as cores não necessariamente correspondem as cores no gráfico\n",
        "\n",
        ">Anotação 15\n",
        "- Criação do método geral (agora basta aplicar os gráficos em si)\n",
        "- Reestruturação do código\n",
        "- Estudo de criação de um for (laço de repetição) para conseguir definir cada gráfico"
      ]
    },
    {
      "cell_type": "markdown",
      "metadata": {
        "id": "qtq7ySZF-pKG"
      },
      "source": [
        "## Mãos à Obra!"
      ]
    },
    {
      "cell_type": "markdown",
      "metadata": {
        "id": "qdQKOMSa-pKH"
      },
      "source": [
        "### Passos iniciais:"
      ]
    },
    {
      "cell_type": "markdown",
      "metadata": {
        "id": "n5KoYLME-pKI"
      },
      "source": [
        "Os passos iniciais consistem em:\n",
        "- Passo 1: Entendimento do Desafio\n",
        "- Passo 2: Entendimento da Área/Empresa\n",
        "- Passo 3: Extração/Obtenção de Dados\n",
        "- Passo 4: Ajuste de Dados (Tratamento/Limpeza)\n",
        "- Passo 5: Análise Exploratória\n",
        "- Passo 6: Modelagem + Algoritmos (aqui que entra a Inteligência Artificial, se necessário)\n",
        "- Passo 7: Interpretação de Resultados\n",
        "\n",
        "> Inicialmente os dados utilizados serão modelos de notebooks em que uma pessoa pode decidir que deseja comprar, para tal será feita tal pesquisa de modelos de notebook (à partir dos dados do site do fabricante) e suas características serão atribuídas a uma base de dados (Ex: dados_notebooks.csv) e analisados posteriormente\n",
        "\n",
        "#### O Desafio:\n",
        "Uma pessoa deseja comprar um notebook para (estudar, jogar, uso doméstico ou trabalhar) e não sabe qual modelo escolher, ela possui conhecimento mínimo e deseja saber qual notebook é o melhor para ela, afinal, o mesmo precisa ser um investimento consciênte"
      ]
    },
    {
      "cell_type": "markdown",
      "metadata": {
        "id": "qWpg1E1K-pKI"
      },
      "source": [
        "#### Vamos ao código!"
      ]
    },
    {
      "cell_type": "code",
      "execution_count": null,
      "metadata": {
        "id": "nn7BWBNt-pKJ"
      },
      "outputs": [],
      "source": [
        "''' \n",
        "  Aqui toda a execução do código se inicia, não se esqueça de executar\n",
        "  esta célula que é fundamental para o funcionamento do código\n",
        "'''\n",
        "\n",
        "# Importar as bibliotecas a serem utilizadas\n",
        "import pandas as pd\n",
        "import numpy as np\n",
        "import matplotlib.pyplot as plt\n",
        "import plotly.express as px\n",
        "import plotly.graph_objects as go"
      ]
    },
    {
      "cell_type": "code",
      "execution_count": null,
      "metadata": {
        "id": "QdCNZZpu6DSK"
      },
      "outputs": [],
      "source": [
        "''' \n",
        "  DICA: Divida os dados qualitativos em categorias (exemplo na CÉLULA 2),\n",
        "  aqui está uma tabela para auxiliar no processo.\n",
        "'''\n",
        "\n",
        "# - Dividir em 5 categorias \n",
        "# (0 - 20% (Nada desejável), \n",
        "# 20 - 40% (Pouco desejável), \n",
        "# 40 - 60% (Médio desejável), \n",
        "# 60 - 80% (Bem desejável), \n",
        "# 80 - 100% (Muito desejável))"
      ]
    },
    {
      "cell_type": "markdown",
      "metadata": {
        "id": "HfdHqqu66DSV"
      },
      "source": [
        "# Realizando a montagem dos gráficos"
      ]
    },
    {
      "cell_type": "markdown",
      "source": [
        "## CÉLULA 1"
      ],
      "metadata": {
        "id": "Z-LZKi9__doG"
      }
    },
    {
      "cell_type": "code",
      "execution_count": null,
      "metadata": {
        "id": "HasiD2d06DSX",
        "outputId": "d372085c-7232-4a91-bfe0-c81ee8099642",
        "colab": {
          "base_uri": "https://localhost:8080/",
          "height": 1000
        }
      },
      "outputs": [
        {
          "output_type": "stream",
          "name": "stdout",
          "text": [
            "Object\n"
          ]
        },
        {
          "output_type": "display_data",
          "data": {
            "text/html": [
              "<html>\n",
              "<head><meta charset=\"utf-8\" /></head>\n",
              "<body>\n",
              "    <div>            <script src=\"https://cdnjs.cloudflare.com/ajax/libs/mathjax/2.7.5/MathJax.js?config=TeX-AMS-MML_SVG\"></script><script type=\"text/javascript\">if (window.MathJax) {MathJax.Hub.Config({SVG: {font: \"STIX-Web\"}});}</script>                <script type=\"text/javascript\">window.PlotlyConfig = {MathJaxConfig: 'local'};</script>\n",
              "        <script src=\"https://cdn.plot.ly/plotly-2.8.3.min.js\"></script>                <div id=\"2c0f8977-7607-4c92-b908-4966dc9df2c0\" class=\"plotly-graph-div\" style=\"height:525px; width:100%;\"></div>            <script type=\"text/javascript\">                                    window.PLOTLYENV=window.PLOTLYENV || {};                                    if (document.getElementById(\"2c0f8977-7607-4c92-b908-4966dc9df2c0\")) {                    Plotly.newPlot(                        \"2c0f8977-7607-4c92-b908-4966dc9df2c0\",                        [{\"alignmentgroup\":\"True\",\"customdata\":[[\"Desempenho\",\"-50%\",\"Desempenho\"],[\"Desempenho\",\"0%\",\"Desempenho\"],[\"Desempenho\",\"50%\",\"Desempenho\"],[\"Desempenho\",\"100%\",\"Desempenho\"],[\"Desempenho\",\"300%\",\"Desempenho\"]],\"hovertemplate\":\"<b>%{hovertext}</b><br><br>Porcentagem desempenho=%{customdata[1]}<br>Cor indicativa=%{customdata[2]}<extra></extra>\",\"hovertext\":[\"Desempenho\",\"Desempenho\",\"Desempenho\",\"Desempenho\",\"Desempenho\"],\"legendgroup\":\"Desempenho\",\"marker\":{\"color\":\"red\",\"pattern\":{\"shape\":\"\"}},\"name\":\"Desempenho\",\"offsetgroup\":\"Desempenho\",\"orientation\":\"h\",\"showlegend\":true,\"textposition\":\"auto\",\"x\":[-0.5,0.0,0.5,1.0,3.0],\"xaxis\":\"x\",\"y\":[\"Acer\",\"Lenovo\",\"DELL\",\"Samsung\",\"Positivo\"],\"yaxis\":\"y\",\"type\":\"bar\"},{\"alignmentgroup\":\"True\",\"customdata\":[[\"Classificador\",\"100%\",\"Classificador\"],[\"Classificador\",\"0%\",\"Classificador\"]],\"hovertemplate\":\"<b>%{hovertext}</b><br><br>Porcentagem desempenho=%{customdata[1]}<br>Cor indicativa=%{customdata[2]}<extra></extra>\",\"hovertext\":[\"Classificador\",\"Classificador\"],\"legendgroup\":\"Classificador\",\"marker\":{\"color\":\"blue\",\"pattern\":{\"shape\":\"\"}},\"name\":\"Classificador\",\"offsetgroup\":\"Classificador\",\"orientation\":\"h\",\"showlegend\":true,\"textposition\":\"auto\",\"x\":[1.0,0.0],\"xaxis\":\"x\",\"y\":[\"BOM\",\"NEUTRO\"],\"yaxis\":\"y\",\"type\":\"bar\"}],                        {\"template\":{\"data\":{\"bar\":[{\"error_x\":{\"color\":\"#2a3f5f\"},\"error_y\":{\"color\":\"#2a3f5f\"},\"marker\":{\"line\":{\"color\":\"#E5ECF6\",\"width\":0.5},\"pattern\":{\"fillmode\":\"overlay\",\"size\":10,\"solidity\":0.2}},\"type\":\"bar\"}],\"barpolar\":[{\"marker\":{\"line\":{\"color\":\"#E5ECF6\",\"width\":0.5},\"pattern\":{\"fillmode\":\"overlay\",\"size\":10,\"solidity\":0.2}},\"type\":\"barpolar\"}],\"carpet\":[{\"aaxis\":{\"endlinecolor\":\"#2a3f5f\",\"gridcolor\":\"white\",\"linecolor\":\"white\",\"minorgridcolor\":\"white\",\"startlinecolor\":\"#2a3f5f\"},\"baxis\":{\"endlinecolor\":\"#2a3f5f\",\"gridcolor\":\"white\",\"linecolor\":\"white\",\"minorgridcolor\":\"white\",\"startlinecolor\":\"#2a3f5f\"},\"type\":\"carpet\"}],\"choropleth\":[{\"colorbar\":{\"outlinewidth\":0,\"ticks\":\"\"},\"type\":\"choropleth\"}],\"contour\":[{\"colorbar\":{\"outlinewidth\":0,\"ticks\":\"\"},\"colorscale\":[[0.0,\"#0d0887\"],[0.1111111111111111,\"#46039f\"],[0.2222222222222222,\"#7201a8\"],[0.3333333333333333,\"#9c179e\"],[0.4444444444444444,\"#bd3786\"],[0.5555555555555556,\"#d8576b\"],[0.6666666666666666,\"#ed7953\"],[0.7777777777777778,\"#fb9f3a\"],[0.8888888888888888,\"#fdca26\"],[1.0,\"#f0f921\"]],\"type\":\"contour\"}],\"contourcarpet\":[{\"colorbar\":{\"outlinewidth\":0,\"ticks\":\"\"},\"type\":\"contourcarpet\"}],\"heatmap\":[{\"colorbar\":{\"outlinewidth\":0,\"ticks\":\"\"},\"colorscale\":[[0.0,\"#0d0887\"],[0.1111111111111111,\"#46039f\"],[0.2222222222222222,\"#7201a8\"],[0.3333333333333333,\"#9c179e\"],[0.4444444444444444,\"#bd3786\"],[0.5555555555555556,\"#d8576b\"],[0.6666666666666666,\"#ed7953\"],[0.7777777777777778,\"#fb9f3a\"],[0.8888888888888888,\"#fdca26\"],[1.0,\"#f0f921\"]],\"type\":\"heatmap\"}],\"heatmapgl\":[{\"colorbar\":{\"outlinewidth\":0,\"ticks\":\"\"},\"colorscale\":[[0.0,\"#0d0887\"],[0.1111111111111111,\"#46039f\"],[0.2222222222222222,\"#7201a8\"],[0.3333333333333333,\"#9c179e\"],[0.4444444444444444,\"#bd3786\"],[0.5555555555555556,\"#d8576b\"],[0.6666666666666666,\"#ed7953\"],[0.7777777777777778,\"#fb9f3a\"],[0.8888888888888888,\"#fdca26\"],[1.0,\"#f0f921\"]],\"type\":\"heatmapgl\"}],\"histogram\":[{\"marker\":{\"pattern\":{\"fillmode\":\"overlay\",\"size\":10,\"solidity\":0.2}},\"type\":\"histogram\"}],\"histogram2d\":[{\"colorbar\":{\"outlinewidth\":0,\"ticks\":\"\"},\"colorscale\":[[0.0,\"#0d0887\"],[0.1111111111111111,\"#46039f\"],[0.2222222222222222,\"#7201a8\"],[0.3333333333333333,\"#9c179e\"],[0.4444444444444444,\"#bd3786\"],[0.5555555555555556,\"#d8576b\"],[0.6666666666666666,\"#ed7953\"],[0.7777777777777778,\"#fb9f3a\"],[0.8888888888888888,\"#fdca26\"],[1.0,\"#f0f921\"]],\"type\":\"histogram2d\"}],\"histogram2dcontour\":[{\"colorbar\":{\"outlinewidth\":0,\"ticks\":\"\"},\"colorscale\":[[0.0,\"#0d0887\"],[0.1111111111111111,\"#46039f\"],[0.2222222222222222,\"#7201a8\"],[0.3333333333333333,\"#9c179e\"],[0.4444444444444444,\"#bd3786\"],[0.5555555555555556,\"#d8576b\"],[0.6666666666666666,\"#ed7953\"],[0.7777777777777778,\"#fb9f3a\"],[0.8888888888888888,\"#fdca26\"],[1.0,\"#f0f921\"]],\"type\":\"histogram2dcontour\"}],\"mesh3d\":[{\"colorbar\":{\"outlinewidth\":0,\"ticks\":\"\"},\"type\":\"mesh3d\"}],\"parcoords\":[{\"line\":{\"colorbar\":{\"outlinewidth\":0,\"ticks\":\"\"}},\"type\":\"parcoords\"}],\"pie\":[{\"automargin\":true,\"type\":\"pie\"}],\"scatter\":[{\"marker\":{\"colorbar\":{\"outlinewidth\":0,\"ticks\":\"\"}},\"type\":\"scatter\"}],\"scatter3d\":[{\"line\":{\"colorbar\":{\"outlinewidth\":0,\"ticks\":\"\"}},\"marker\":{\"colorbar\":{\"outlinewidth\":0,\"ticks\":\"\"}},\"type\":\"scatter3d\"}],\"scattercarpet\":[{\"marker\":{\"colorbar\":{\"outlinewidth\":0,\"ticks\":\"\"}},\"type\":\"scattercarpet\"}],\"scattergeo\":[{\"marker\":{\"colorbar\":{\"outlinewidth\":0,\"ticks\":\"\"}},\"type\":\"scattergeo\"}],\"scattergl\":[{\"marker\":{\"colorbar\":{\"outlinewidth\":0,\"ticks\":\"\"}},\"type\":\"scattergl\"}],\"scattermapbox\":[{\"marker\":{\"colorbar\":{\"outlinewidth\":0,\"ticks\":\"\"}},\"type\":\"scattermapbox\"}],\"scatterpolar\":[{\"marker\":{\"colorbar\":{\"outlinewidth\":0,\"ticks\":\"\"}},\"type\":\"scatterpolar\"}],\"scatterpolargl\":[{\"marker\":{\"colorbar\":{\"outlinewidth\":0,\"ticks\":\"\"}},\"type\":\"scatterpolargl\"}],\"scatterternary\":[{\"marker\":{\"colorbar\":{\"outlinewidth\":0,\"ticks\":\"\"}},\"type\":\"scatterternary\"}],\"surface\":[{\"colorbar\":{\"outlinewidth\":0,\"ticks\":\"\"},\"colorscale\":[[0.0,\"#0d0887\"],[0.1111111111111111,\"#46039f\"],[0.2222222222222222,\"#7201a8\"],[0.3333333333333333,\"#9c179e\"],[0.4444444444444444,\"#bd3786\"],[0.5555555555555556,\"#d8576b\"],[0.6666666666666666,\"#ed7953\"],[0.7777777777777778,\"#fb9f3a\"],[0.8888888888888888,\"#fdca26\"],[1.0,\"#f0f921\"]],\"type\":\"surface\"}],\"table\":[{\"cells\":{\"fill\":{\"color\":\"#EBF0F8\"},\"line\":{\"color\":\"white\"}},\"header\":{\"fill\":{\"color\":\"#C8D4E3\"},\"line\":{\"color\":\"white\"}},\"type\":\"table\"}]},\"layout\":{\"annotationdefaults\":{\"arrowcolor\":\"#2a3f5f\",\"arrowhead\":0,\"arrowwidth\":1},\"autotypenumbers\":\"strict\",\"coloraxis\":{\"colorbar\":{\"outlinewidth\":0,\"ticks\":\"\"}},\"colorscale\":{\"diverging\":[[0,\"#8e0152\"],[0.1,\"#c51b7d\"],[0.2,\"#de77ae\"],[0.3,\"#f1b6da\"],[0.4,\"#fde0ef\"],[0.5,\"#f7f7f7\"],[0.6,\"#e6f5d0\"],[0.7,\"#b8e186\"],[0.8,\"#7fbc41\"],[0.9,\"#4d9221\"],[1,\"#276419\"]],\"sequential\":[[0.0,\"#0d0887\"],[0.1111111111111111,\"#46039f\"],[0.2222222222222222,\"#7201a8\"],[0.3333333333333333,\"#9c179e\"],[0.4444444444444444,\"#bd3786\"],[0.5555555555555556,\"#d8576b\"],[0.6666666666666666,\"#ed7953\"],[0.7777777777777778,\"#fb9f3a\"],[0.8888888888888888,\"#fdca26\"],[1.0,\"#f0f921\"]],\"sequentialminus\":[[0.0,\"#0d0887\"],[0.1111111111111111,\"#46039f\"],[0.2222222222222222,\"#7201a8\"],[0.3333333333333333,\"#9c179e\"],[0.4444444444444444,\"#bd3786\"],[0.5555555555555556,\"#d8576b\"],[0.6666666666666666,\"#ed7953\"],[0.7777777777777778,\"#fb9f3a\"],[0.8888888888888888,\"#fdca26\"],[1.0,\"#f0f921\"]]},\"colorway\":[\"#636efa\",\"#EF553B\",\"#00cc96\",\"#ab63fa\",\"#FFA15A\",\"#19d3f3\",\"#FF6692\",\"#B6E880\",\"#FF97FF\",\"#FECB52\"],\"font\":{\"color\":\"#2a3f5f\"},\"geo\":{\"bgcolor\":\"white\",\"lakecolor\":\"white\",\"landcolor\":\"#E5ECF6\",\"showlakes\":true,\"showland\":true,\"subunitcolor\":\"white\"},\"hoverlabel\":{\"align\":\"left\"},\"hovermode\":\"closest\",\"mapbox\":{\"style\":\"light\"},\"paper_bgcolor\":\"white\",\"plot_bgcolor\":\"#E5ECF6\",\"polar\":{\"angularaxis\":{\"gridcolor\":\"white\",\"linecolor\":\"white\",\"ticks\":\"\"},\"bgcolor\":\"#E5ECF6\",\"radialaxis\":{\"gridcolor\":\"white\",\"linecolor\":\"white\",\"ticks\":\"\"}},\"scene\":{\"xaxis\":{\"backgroundcolor\":\"#E5ECF6\",\"gridcolor\":\"white\",\"gridwidth\":2,\"linecolor\":\"white\",\"showbackground\":true,\"ticks\":\"\",\"zerolinecolor\":\"white\"},\"yaxis\":{\"backgroundcolor\":\"#E5ECF6\",\"gridcolor\":\"white\",\"gridwidth\":2,\"linecolor\":\"white\",\"showbackground\":true,\"ticks\":\"\",\"zerolinecolor\":\"white\"},\"zaxis\":{\"backgroundcolor\":\"#E5ECF6\",\"gridcolor\":\"white\",\"gridwidth\":2,\"linecolor\":\"white\",\"showbackground\":true,\"ticks\":\"\",\"zerolinecolor\":\"white\"}},\"shapedefaults\":{\"line\":{\"color\":\"#2a3f5f\"}},\"ternary\":{\"aaxis\":{\"gridcolor\":\"white\",\"linecolor\":\"white\",\"ticks\":\"\"},\"baxis\":{\"gridcolor\":\"white\",\"linecolor\":\"white\",\"ticks\":\"\"},\"bgcolor\":\"#E5ECF6\",\"caxis\":{\"gridcolor\":\"white\",\"linecolor\":\"white\",\"ticks\":\"\"}},\"title\":{\"x\":0.05},\"xaxis\":{\"automargin\":true,\"gridcolor\":\"white\",\"linecolor\":\"white\",\"ticks\":\"\",\"title\":{\"standoff\":15},\"zerolinecolor\":\"white\",\"zerolinewidth\":2},\"yaxis\":{\"automargin\":true,\"gridcolor\":\"white\",\"linecolor\":\"white\",\"ticks\":\"\",\"title\":{\"standoff\":15},\"zerolinecolor\":\"white\",\"zerolinewidth\":2}}},\"xaxis\":{\"anchor\":\"y\",\"domain\":[0.0,1.0],\"title\":{\"text\":\"Montante Relacional\"},\"showticklabels\":false},\"yaxis\":{\"anchor\":\"x\",\"domain\":[0.0,1.0],\"title\":{\"text\":\"Modelo\"},\"categoryorder\":\"total ascending\",\"showticklabels\":true},\"legend\":{\"title\":{\"text\":\"Legenda da rela\\u00e7\\u00e3o de cores\"},\"tracegroupgap\":0},\"margin\":{\"t\":60},\"barmode\":\"relative\",\"coloraxis\":{\"showscale\":false},\"shapes\":[{\"type\":\"line\",\"x0\":0,\"x1\":0,\"xref\":\"x\",\"y0\":0,\"y1\":1,\"yref\":\"y domain\"}],\"annotations\":[{\"align\":\"center\",\"arrowcolor\":\"#636363\",\"arrowhead\":2,\"arrowsize\":1,\"arrowwidth\":2,\"ax\":0,\"ay\":-45,\"bgcolor\":\"blue\",\"bordercolor\":\"#c7c7c7\",\"borderpad\":4,\"borderwidth\":2,\"font\":{\"color\":\"#ffffff\",\"family\":\"Courier New, monospace\",\"size\":16},\"opacity\":1,\"showarrow\":true,\"text\":\"Linha Neutra<br>(M\\u00ednimo Aceit\\u00e1vel): 4\",\"x\":0,\"xref\":\"x\",\"y\":7,\"yref\":\"y\"}],\"title\":{\"text\":\"Compara\\u00e7\\u00e3o com Indicadores de Desempenho e Classificadores: Mem\\u00f3ria RAM\"},\"hovermode\":\"y unified\"},                        {\"responsive\": true}                    ).then(function(){\n",
              "                            \n",
              "var gd = document.getElementById('2c0f8977-7607-4c92-b908-4966dc9df2c0');\n",
              "var x = new MutationObserver(function (mutations, observer) {{\n",
              "        var display = window.getComputedStyle(gd).display;\n",
              "        if (!display || display === 'none') {{\n",
              "            console.log([gd, 'removed!']);\n",
              "            Plotly.purge(gd);\n",
              "            observer.disconnect();\n",
              "        }}\n",
              "}});\n",
              "\n",
              "// Listen for the removal of the full notebook cells\n",
              "var notebookContainer = gd.closest('#notebook-container');\n",
              "if (notebookContainer) {{\n",
              "    x.observe(notebookContainer, {childList: true});\n",
              "}}\n",
              "\n",
              "// Listen for the clearing of the current output cell\n",
              "var outputEl = gd.closest('.output');\n",
              "if (outputEl) {{\n",
              "    x.observe(outputEl, {childList: true});\n",
              "}}\n",
              "\n",
              "                        })                };                            </script>        </div>\n",
              "</body>\n",
              "</html>"
            ]
          },
          "metadata": {}
        },
        {
          "output_type": "display_data",
          "data": {
            "text/html": [
              "<html>\n",
              "<head><meta charset=\"utf-8\" /></head>\n",
              "<body>\n",
              "    <div>            <script src=\"https://cdnjs.cloudflare.com/ajax/libs/mathjax/2.7.5/MathJax.js?config=TeX-AMS-MML_SVG\"></script><script type=\"text/javascript\">if (window.MathJax) {MathJax.Hub.Config({SVG: {font: \"STIX-Web\"}});}</script>                <script type=\"text/javascript\">window.PlotlyConfig = {MathJaxConfig: 'local'};</script>\n",
              "        <script src=\"https://cdn.plot.ly/plotly-2.8.3.min.js\"></script>                <div id=\"c8542e68-40e9-490e-a6a3-780ad9c2a9bb\" class=\"plotly-graph-div\" style=\"height:525px; width:100%;\"></div>            <script type=\"text/javascript\">                                    window.PLOTLYENV=window.PLOTLYENV || {};                                    if (document.getElementById(\"c8542e68-40e9-490e-a6a3-780ad9c2a9bb\")) {                    Plotly.newPlot(                        \"c8542e68-40e9-490e-a6a3-780ad9c2a9bb\",                        [{\"alignmentgroup\":\"True\",\"customdata\":[[\"Desempenho\",\"700%\",\"Desempenho\"],[\"Desempenho\",\"300%\",\"Desempenho\"],[\"Desempenho\",\"300%\",\"Desempenho\"],[\"Desempenho\",\"100%\",\"Desempenho\"],[\"Desempenho\",\"0%\",\"Desempenho\"]],\"hovertemplate\":\"<b>%{hovertext}</b><br><br>Porcentagem desempenho=%{customdata[1]}<br>Cor indicativa=%{customdata[2]}<extra></extra>\",\"hovertext\":[\"Desempenho\",\"Desempenho\",\"Desempenho\",\"Desempenho\",\"Desempenho\"],\"legendgroup\":\"Desempenho\",\"marker\":{\"color\":\"red\",\"pattern\":{\"shape\":\"\"}},\"name\":\"Desempenho\",\"offsetgroup\":\"Desempenho\",\"orientation\":\"h\",\"showlegend\":true,\"textposition\":\"auto\",\"x\":[7.0,3.0,3.0,1.0,0.0],\"xaxis\":\"x\",\"y\":[\"Acer\",\"Lenovo\",\"DELL\",\"Samsung\",\"Positivo\"],\"yaxis\":\"y\",\"type\":\"bar\"},{\"alignmentgroup\":\"True\",\"customdata\":[[\"Classificador\",\"700%\",\"Classificador\"],[\"Classificador\",\"0%\",\"Classificador\"]],\"hovertemplate\":\"<b>%{hovertext}</b><br><br>Porcentagem desempenho=%{customdata[1]}<br>Cor indicativa=%{customdata[2]}<extra></extra>\",\"hovertext\":[\"Classificador\",\"Classificador\"],\"legendgroup\":\"Classificador\",\"marker\":{\"color\":\"blue\",\"pattern\":{\"shape\":\"\"}},\"name\":\"Classificador\",\"offsetgroup\":\"Classificador\",\"orientation\":\"h\",\"showlegend\":true,\"textposition\":\"auto\",\"x\":[7.0,0.0],\"xaxis\":\"x\",\"y\":[\"BOM\",\"NEUTRO\"],\"yaxis\":\"y\",\"type\":\"bar\"}],                        {\"template\":{\"data\":{\"bar\":[{\"error_x\":{\"color\":\"#2a3f5f\"},\"error_y\":{\"color\":\"#2a3f5f\"},\"marker\":{\"line\":{\"color\":\"#E5ECF6\",\"width\":0.5},\"pattern\":{\"fillmode\":\"overlay\",\"size\":10,\"solidity\":0.2}},\"type\":\"bar\"}],\"barpolar\":[{\"marker\":{\"line\":{\"color\":\"#E5ECF6\",\"width\":0.5},\"pattern\":{\"fillmode\":\"overlay\",\"size\":10,\"solidity\":0.2}},\"type\":\"barpolar\"}],\"carpet\":[{\"aaxis\":{\"endlinecolor\":\"#2a3f5f\",\"gridcolor\":\"white\",\"linecolor\":\"white\",\"minorgridcolor\":\"white\",\"startlinecolor\":\"#2a3f5f\"},\"baxis\":{\"endlinecolor\":\"#2a3f5f\",\"gridcolor\":\"white\",\"linecolor\":\"white\",\"minorgridcolor\":\"white\",\"startlinecolor\":\"#2a3f5f\"},\"type\":\"carpet\"}],\"choropleth\":[{\"colorbar\":{\"outlinewidth\":0,\"ticks\":\"\"},\"type\":\"choropleth\"}],\"contour\":[{\"colorbar\":{\"outlinewidth\":0,\"ticks\":\"\"},\"colorscale\":[[0.0,\"#0d0887\"],[0.1111111111111111,\"#46039f\"],[0.2222222222222222,\"#7201a8\"],[0.3333333333333333,\"#9c179e\"],[0.4444444444444444,\"#bd3786\"],[0.5555555555555556,\"#d8576b\"],[0.6666666666666666,\"#ed7953\"],[0.7777777777777778,\"#fb9f3a\"],[0.8888888888888888,\"#fdca26\"],[1.0,\"#f0f921\"]],\"type\":\"contour\"}],\"contourcarpet\":[{\"colorbar\":{\"outlinewidth\":0,\"ticks\":\"\"},\"type\":\"contourcarpet\"}],\"heatmap\":[{\"colorbar\":{\"outlinewidth\":0,\"ticks\":\"\"},\"colorscale\":[[0.0,\"#0d0887\"],[0.1111111111111111,\"#46039f\"],[0.2222222222222222,\"#7201a8\"],[0.3333333333333333,\"#9c179e\"],[0.4444444444444444,\"#bd3786\"],[0.5555555555555556,\"#d8576b\"],[0.6666666666666666,\"#ed7953\"],[0.7777777777777778,\"#fb9f3a\"],[0.8888888888888888,\"#fdca26\"],[1.0,\"#f0f921\"]],\"type\":\"heatmap\"}],\"heatmapgl\":[{\"colorbar\":{\"outlinewidth\":0,\"ticks\":\"\"},\"colorscale\":[[0.0,\"#0d0887\"],[0.1111111111111111,\"#46039f\"],[0.2222222222222222,\"#7201a8\"],[0.3333333333333333,\"#9c179e\"],[0.4444444444444444,\"#bd3786\"],[0.5555555555555556,\"#d8576b\"],[0.6666666666666666,\"#ed7953\"],[0.7777777777777778,\"#fb9f3a\"],[0.8888888888888888,\"#fdca26\"],[1.0,\"#f0f921\"]],\"type\":\"heatmapgl\"}],\"histogram\":[{\"marker\":{\"pattern\":{\"fillmode\":\"overlay\",\"size\":10,\"solidity\":0.2}},\"type\":\"histogram\"}],\"histogram2d\":[{\"colorbar\":{\"outlinewidth\":0,\"ticks\":\"\"},\"colorscale\":[[0.0,\"#0d0887\"],[0.1111111111111111,\"#46039f\"],[0.2222222222222222,\"#7201a8\"],[0.3333333333333333,\"#9c179e\"],[0.4444444444444444,\"#bd3786\"],[0.5555555555555556,\"#d8576b\"],[0.6666666666666666,\"#ed7953\"],[0.7777777777777778,\"#fb9f3a\"],[0.8888888888888888,\"#fdca26\"],[1.0,\"#f0f921\"]],\"type\":\"histogram2d\"}],\"histogram2dcontour\":[{\"colorbar\":{\"outlinewidth\":0,\"ticks\":\"\"},\"colorscale\":[[0.0,\"#0d0887\"],[0.1111111111111111,\"#46039f\"],[0.2222222222222222,\"#7201a8\"],[0.3333333333333333,\"#9c179e\"],[0.4444444444444444,\"#bd3786\"],[0.5555555555555556,\"#d8576b\"],[0.6666666666666666,\"#ed7953\"],[0.7777777777777778,\"#fb9f3a\"],[0.8888888888888888,\"#fdca26\"],[1.0,\"#f0f921\"]],\"type\":\"histogram2dcontour\"}],\"mesh3d\":[{\"colorbar\":{\"outlinewidth\":0,\"ticks\":\"\"},\"type\":\"mesh3d\"}],\"parcoords\":[{\"line\":{\"colorbar\":{\"outlinewidth\":0,\"ticks\":\"\"}},\"type\":\"parcoords\"}],\"pie\":[{\"automargin\":true,\"type\":\"pie\"}],\"scatter\":[{\"marker\":{\"colorbar\":{\"outlinewidth\":0,\"ticks\":\"\"}},\"type\":\"scatter\"}],\"scatter3d\":[{\"line\":{\"colorbar\":{\"outlinewidth\":0,\"ticks\":\"\"}},\"marker\":{\"colorbar\":{\"outlinewidth\":0,\"ticks\":\"\"}},\"type\":\"scatter3d\"}],\"scattercarpet\":[{\"marker\":{\"colorbar\":{\"outlinewidth\":0,\"ticks\":\"\"}},\"type\":\"scattercarpet\"}],\"scattergeo\":[{\"marker\":{\"colorbar\":{\"outlinewidth\":0,\"ticks\":\"\"}},\"type\":\"scattergeo\"}],\"scattergl\":[{\"marker\":{\"colorbar\":{\"outlinewidth\":0,\"ticks\":\"\"}},\"type\":\"scattergl\"}],\"scattermapbox\":[{\"marker\":{\"colorbar\":{\"outlinewidth\":0,\"ticks\":\"\"}},\"type\":\"scattermapbox\"}],\"scatterpolar\":[{\"marker\":{\"colorbar\":{\"outlinewidth\":0,\"ticks\":\"\"}},\"type\":\"scatterpolar\"}],\"scatterpolargl\":[{\"marker\":{\"colorbar\":{\"outlinewidth\":0,\"ticks\":\"\"}},\"type\":\"scatterpolargl\"}],\"scatterternary\":[{\"marker\":{\"colorbar\":{\"outlinewidth\":0,\"ticks\":\"\"}},\"type\":\"scatterternary\"}],\"surface\":[{\"colorbar\":{\"outlinewidth\":0,\"ticks\":\"\"},\"colorscale\":[[0.0,\"#0d0887\"],[0.1111111111111111,\"#46039f\"],[0.2222222222222222,\"#7201a8\"],[0.3333333333333333,\"#9c179e\"],[0.4444444444444444,\"#bd3786\"],[0.5555555555555556,\"#d8576b\"],[0.6666666666666666,\"#ed7953\"],[0.7777777777777778,\"#fb9f3a\"],[0.8888888888888888,\"#fdca26\"],[1.0,\"#f0f921\"]],\"type\":\"surface\"}],\"table\":[{\"cells\":{\"fill\":{\"color\":\"#EBF0F8\"},\"line\":{\"color\":\"white\"}},\"header\":{\"fill\":{\"color\":\"#C8D4E3\"},\"line\":{\"color\":\"white\"}},\"type\":\"table\"}]},\"layout\":{\"annotationdefaults\":{\"arrowcolor\":\"#2a3f5f\",\"arrowhead\":0,\"arrowwidth\":1},\"autotypenumbers\":\"strict\",\"coloraxis\":{\"colorbar\":{\"outlinewidth\":0,\"ticks\":\"\"}},\"colorscale\":{\"diverging\":[[0,\"#8e0152\"],[0.1,\"#c51b7d\"],[0.2,\"#de77ae\"],[0.3,\"#f1b6da\"],[0.4,\"#fde0ef\"],[0.5,\"#f7f7f7\"],[0.6,\"#e6f5d0\"],[0.7,\"#b8e186\"],[0.8,\"#7fbc41\"],[0.9,\"#4d9221\"],[1,\"#276419\"]],\"sequential\":[[0.0,\"#0d0887\"],[0.1111111111111111,\"#46039f\"],[0.2222222222222222,\"#7201a8\"],[0.3333333333333333,\"#9c179e\"],[0.4444444444444444,\"#bd3786\"],[0.5555555555555556,\"#d8576b\"],[0.6666666666666666,\"#ed7953\"],[0.7777777777777778,\"#fb9f3a\"],[0.8888888888888888,\"#fdca26\"],[1.0,\"#f0f921\"]],\"sequentialminus\":[[0.0,\"#0d0887\"],[0.1111111111111111,\"#46039f\"],[0.2222222222222222,\"#7201a8\"],[0.3333333333333333,\"#9c179e\"],[0.4444444444444444,\"#bd3786\"],[0.5555555555555556,\"#d8576b\"],[0.6666666666666666,\"#ed7953\"],[0.7777777777777778,\"#fb9f3a\"],[0.8888888888888888,\"#fdca26\"],[1.0,\"#f0f921\"]]},\"colorway\":[\"#636efa\",\"#EF553B\",\"#00cc96\",\"#ab63fa\",\"#FFA15A\",\"#19d3f3\",\"#FF6692\",\"#B6E880\",\"#FF97FF\",\"#FECB52\"],\"font\":{\"color\":\"#2a3f5f\"},\"geo\":{\"bgcolor\":\"white\",\"lakecolor\":\"white\",\"landcolor\":\"#E5ECF6\",\"showlakes\":true,\"showland\":true,\"subunitcolor\":\"white\"},\"hoverlabel\":{\"align\":\"left\"},\"hovermode\":\"closest\",\"mapbox\":{\"style\":\"light\"},\"paper_bgcolor\":\"white\",\"plot_bgcolor\":\"#E5ECF6\",\"polar\":{\"angularaxis\":{\"gridcolor\":\"white\",\"linecolor\":\"white\",\"ticks\":\"\"},\"bgcolor\":\"#E5ECF6\",\"radialaxis\":{\"gridcolor\":\"white\",\"linecolor\":\"white\",\"ticks\":\"\"}},\"scene\":{\"xaxis\":{\"backgroundcolor\":\"#E5ECF6\",\"gridcolor\":\"white\",\"gridwidth\":2,\"linecolor\":\"white\",\"showbackground\":true,\"ticks\":\"\",\"zerolinecolor\":\"white\"},\"yaxis\":{\"backgroundcolor\":\"#E5ECF6\",\"gridcolor\":\"white\",\"gridwidth\":2,\"linecolor\":\"white\",\"showbackground\":true,\"ticks\":\"\",\"zerolinecolor\":\"white\"},\"zaxis\":{\"backgroundcolor\":\"#E5ECF6\",\"gridcolor\":\"white\",\"gridwidth\":2,\"linecolor\":\"white\",\"showbackground\":true,\"ticks\":\"\",\"zerolinecolor\":\"white\"}},\"shapedefaults\":{\"line\":{\"color\":\"#2a3f5f\"}},\"ternary\":{\"aaxis\":{\"gridcolor\":\"white\",\"linecolor\":\"white\",\"ticks\":\"\"},\"baxis\":{\"gridcolor\":\"white\",\"linecolor\":\"white\",\"ticks\":\"\"},\"bgcolor\":\"#E5ECF6\",\"caxis\":{\"gridcolor\":\"white\",\"linecolor\":\"white\",\"ticks\":\"\"}},\"title\":{\"x\":0.05},\"xaxis\":{\"automargin\":true,\"gridcolor\":\"white\",\"linecolor\":\"white\",\"ticks\":\"\",\"title\":{\"standoff\":15},\"zerolinecolor\":\"white\",\"zerolinewidth\":2},\"yaxis\":{\"automargin\":true,\"gridcolor\":\"white\",\"linecolor\":\"white\",\"ticks\":\"\",\"title\":{\"standoff\":15},\"zerolinecolor\":\"white\",\"zerolinewidth\":2}}},\"xaxis\":{\"anchor\":\"y\",\"domain\":[0.0,1.0],\"title\":{\"text\":\"Montante Relacional\"},\"showticklabels\":false},\"yaxis\":{\"anchor\":\"x\",\"domain\":[0.0,1.0],\"title\":{\"text\":\"Modelo\"},\"categoryorder\":\"total ascending\",\"showticklabels\":true},\"legend\":{\"title\":{\"text\":\"Legenda da rela\\u00e7\\u00e3o de cores\"},\"tracegroupgap\":0},\"margin\":{\"t\":60},\"barmode\":\"relative\",\"coloraxis\":{\"showscale\":false},\"shapes\":[{\"type\":\"line\",\"x0\":0,\"x1\":0,\"xref\":\"x\",\"y0\":0,\"y1\":1,\"yref\":\"y domain\"}],\"annotations\":[{\"align\":\"center\",\"arrowcolor\":\"#636363\",\"arrowhead\":2,\"arrowsize\":1,\"arrowwidth\":2,\"ax\":0,\"ay\":-45,\"bgcolor\":\"blue\",\"bordercolor\":\"#c7c7c7\",\"borderpad\":4,\"borderwidth\":2,\"font\":{\"color\":\"#ffffff\",\"family\":\"Courier New, monospace\",\"size\":16},\"opacity\":1,\"showarrow\":true,\"text\":\"Linha Neutra<br>(M\\u00ednimo Aceit\\u00e1vel): 120\",\"x\":0,\"xref\":\"x\",\"y\":7,\"yref\":\"y\"}],\"title\":{\"text\":\"Compara\\u00e7\\u00e3o com Indicadores de Desempenho e Classificadores: Armazenamento\"},\"hovermode\":\"y unified\"},                        {\"responsive\": true}                    ).then(function(){\n",
              "                            \n",
              "var gd = document.getElementById('c8542e68-40e9-490e-a6a3-780ad9c2a9bb');\n",
              "var x = new MutationObserver(function (mutations, observer) {{\n",
              "        var display = window.getComputedStyle(gd).display;\n",
              "        if (!display || display === 'none') {{\n",
              "            console.log([gd, 'removed!']);\n",
              "            Plotly.purge(gd);\n",
              "            observer.disconnect();\n",
              "        }}\n",
              "}});\n",
              "\n",
              "// Listen for the removal of the full notebook cells\n",
              "var notebookContainer = gd.closest('#notebook-container');\n",
              "if (notebookContainer) {{\n",
              "    x.observe(notebookContainer, {childList: true});\n",
              "}}\n",
              "\n",
              "// Listen for the clearing of the current output cell\n",
              "var outputEl = gd.closest('.output');\n",
              "if (outputEl) {{\n",
              "    x.observe(outputEl, {childList: true});\n",
              "}}\n",
              "\n",
              "                        })                };                            </script>        </div>\n",
              "</body>\n",
              "</html>"
            ]
          },
          "metadata": {}
        },
        {
          "output_type": "display_data",
          "data": {
            "text/html": [
              "<html>\n",
              "<head><meta charset=\"utf-8\" /></head>\n",
              "<body>\n",
              "    <div>            <script src=\"https://cdnjs.cloudflare.com/ajax/libs/mathjax/2.7.5/MathJax.js?config=TeX-AMS-MML_SVG\"></script><script type=\"text/javascript\">if (window.MathJax) {MathJax.Hub.Config({SVG: {font: \"STIX-Web\"}});}</script>                <script type=\"text/javascript\">window.PlotlyConfig = {MathJaxConfig: 'local'};</script>\n",
              "        <script src=\"https://cdn.plot.ly/plotly-2.8.3.min.js\"></script>                <div id=\"f2ce8ce2-d0f7-4b57-a4cd-6574ec2261ea\" class=\"plotly-graph-div\" style=\"height:525px; width:100%;\"></div>            <script type=\"text/javascript\">                                    window.PLOTLYENV=window.PLOTLYENV || {};                                    if (document.getElementById(\"f2ce8ce2-d0f7-4b57-a4cd-6574ec2261ea\")) {                    Plotly.newPlot(                        \"f2ce8ce2-d0f7-4b57-a4cd-6574ec2261ea\",                        [{\"alignmentgroup\":\"True\",\"customdata\":[[\"Desempenho\",\"0%\",\"Desempenho\"],[\"Desempenho\",\"7%\",\"Desempenho\"],[\"Desempenho\",\"7%\",\"Desempenho\"],[\"Desempenho\",\"0%\",\"Desempenho\"],[\"Desempenho\",\"14%\",\"Desempenho\"]],\"hovertemplate\":\"<b>%{hovertext}</b><br><br>Porcentagem desempenho=%{customdata[1]}<br>Cor indicativa=%{customdata[2]}<extra></extra>\",\"hovertext\":[\"Desempenho\",\"Desempenho\",\"Desempenho\",\"Desempenho\",\"Desempenho\"],\"legendgroup\":\"Desempenho\",\"marker\":{\"color\":\"red\",\"pattern\":{\"shape\":\"\"}},\"name\":\"Desempenho\",\"offsetgroup\":\"Desempenho\",\"orientation\":\"h\",\"showlegend\":true,\"textposition\":\"auto\",\"x\":[0.0,0.0714285714285714,0.0714285714285714,0.0,0.1428571428571428],\"xaxis\":\"x\",\"y\":[\"Acer\",\"Lenovo\",\"DELL\",\"Samsung\",\"Positivo\"],\"yaxis\":\"y\",\"type\":\"bar\"},{\"alignmentgroup\":\"True\",\"customdata\":[[\"Classificador\",\"0%\",\"Classificador\"],[\"Classificador\",\"0%\",\"Classificador\"]],\"hovertemplate\":\"<b>%{hovertext}</b><br><br>Porcentagem desempenho=%{customdata[1]}<br>Cor indicativa=%{customdata[2]}<extra></extra>\",\"hovertext\":[\"Classificador\",\"Classificador\"],\"legendgroup\":\"Classificador\",\"marker\":{\"color\":\"blue\",\"pattern\":{\"shape\":\"\"}},\"name\":\"Classificador\",\"offsetgroup\":\"Classificador\",\"orientation\":\"h\",\"showlegend\":true,\"textposition\":\"auto\",\"x\":[0.0,0.0],\"xaxis\":\"x\",\"y\":[\"BOM\",\"NEUTRO\"],\"yaxis\":\"y\",\"type\":\"bar\"}],                        {\"template\":{\"data\":{\"bar\":[{\"error_x\":{\"color\":\"#2a3f5f\"},\"error_y\":{\"color\":\"#2a3f5f\"},\"marker\":{\"line\":{\"color\":\"#E5ECF6\",\"width\":0.5},\"pattern\":{\"fillmode\":\"overlay\",\"size\":10,\"solidity\":0.2}},\"type\":\"bar\"}],\"barpolar\":[{\"marker\":{\"line\":{\"color\":\"#E5ECF6\",\"width\":0.5},\"pattern\":{\"fillmode\":\"overlay\",\"size\":10,\"solidity\":0.2}},\"type\":\"barpolar\"}],\"carpet\":[{\"aaxis\":{\"endlinecolor\":\"#2a3f5f\",\"gridcolor\":\"white\",\"linecolor\":\"white\",\"minorgridcolor\":\"white\",\"startlinecolor\":\"#2a3f5f\"},\"baxis\":{\"endlinecolor\":\"#2a3f5f\",\"gridcolor\":\"white\",\"linecolor\":\"white\",\"minorgridcolor\":\"white\",\"startlinecolor\":\"#2a3f5f\"},\"type\":\"carpet\"}],\"choropleth\":[{\"colorbar\":{\"outlinewidth\":0,\"ticks\":\"\"},\"type\":\"choropleth\"}],\"contour\":[{\"colorbar\":{\"outlinewidth\":0,\"ticks\":\"\"},\"colorscale\":[[0.0,\"#0d0887\"],[0.1111111111111111,\"#46039f\"],[0.2222222222222222,\"#7201a8\"],[0.3333333333333333,\"#9c179e\"],[0.4444444444444444,\"#bd3786\"],[0.5555555555555556,\"#d8576b\"],[0.6666666666666666,\"#ed7953\"],[0.7777777777777778,\"#fb9f3a\"],[0.8888888888888888,\"#fdca26\"],[1.0,\"#f0f921\"]],\"type\":\"contour\"}],\"contourcarpet\":[{\"colorbar\":{\"outlinewidth\":0,\"ticks\":\"\"},\"type\":\"contourcarpet\"}],\"heatmap\":[{\"colorbar\":{\"outlinewidth\":0,\"ticks\":\"\"},\"colorscale\":[[0.0,\"#0d0887\"],[0.1111111111111111,\"#46039f\"],[0.2222222222222222,\"#7201a8\"],[0.3333333333333333,\"#9c179e\"],[0.4444444444444444,\"#bd3786\"],[0.5555555555555556,\"#d8576b\"],[0.6666666666666666,\"#ed7953\"],[0.7777777777777778,\"#fb9f3a\"],[0.8888888888888888,\"#fdca26\"],[1.0,\"#f0f921\"]],\"type\":\"heatmap\"}],\"heatmapgl\":[{\"colorbar\":{\"outlinewidth\":0,\"ticks\":\"\"},\"colorscale\":[[0.0,\"#0d0887\"],[0.1111111111111111,\"#46039f\"],[0.2222222222222222,\"#7201a8\"],[0.3333333333333333,\"#9c179e\"],[0.4444444444444444,\"#bd3786\"],[0.5555555555555556,\"#d8576b\"],[0.6666666666666666,\"#ed7953\"],[0.7777777777777778,\"#fb9f3a\"],[0.8888888888888888,\"#fdca26\"],[1.0,\"#f0f921\"]],\"type\":\"heatmapgl\"}],\"histogram\":[{\"marker\":{\"pattern\":{\"fillmode\":\"overlay\",\"size\":10,\"solidity\":0.2}},\"type\":\"histogram\"}],\"histogram2d\":[{\"colorbar\":{\"outlinewidth\":0,\"ticks\":\"\"},\"colorscale\":[[0.0,\"#0d0887\"],[0.1111111111111111,\"#46039f\"],[0.2222222222222222,\"#7201a8\"],[0.3333333333333333,\"#9c179e\"],[0.4444444444444444,\"#bd3786\"],[0.5555555555555556,\"#d8576b\"],[0.6666666666666666,\"#ed7953\"],[0.7777777777777778,\"#fb9f3a\"],[0.8888888888888888,\"#fdca26\"],[1.0,\"#f0f921\"]],\"type\":\"histogram2d\"}],\"histogram2dcontour\":[{\"colorbar\":{\"outlinewidth\":0,\"ticks\":\"\"},\"colorscale\":[[0.0,\"#0d0887\"],[0.1111111111111111,\"#46039f\"],[0.2222222222222222,\"#7201a8\"],[0.3333333333333333,\"#9c179e\"],[0.4444444444444444,\"#bd3786\"],[0.5555555555555556,\"#d8576b\"],[0.6666666666666666,\"#ed7953\"],[0.7777777777777778,\"#fb9f3a\"],[0.8888888888888888,\"#fdca26\"],[1.0,\"#f0f921\"]],\"type\":\"histogram2dcontour\"}],\"mesh3d\":[{\"colorbar\":{\"outlinewidth\":0,\"ticks\":\"\"},\"type\":\"mesh3d\"}],\"parcoords\":[{\"line\":{\"colorbar\":{\"outlinewidth\":0,\"ticks\":\"\"}},\"type\":\"parcoords\"}],\"pie\":[{\"automargin\":true,\"type\":\"pie\"}],\"scatter\":[{\"marker\":{\"colorbar\":{\"outlinewidth\":0,\"ticks\":\"\"}},\"type\":\"scatter\"}],\"scatter3d\":[{\"line\":{\"colorbar\":{\"outlinewidth\":0,\"ticks\":\"\"}},\"marker\":{\"colorbar\":{\"outlinewidth\":0,\"ticks\":\"\"}},\"type\":\"scatter3d\"}],\"scattercarpet\":[{\"marker\":{\"colorbar\":{\"outlinewidth\":0,\"ticks\":\"\"}},\"type\":\"scattercarpet\"}],\"scattergeo\":[{\"marker\":{\"colorbar\":{\"outlinewidth\":0,\"ticks\":\"\"}},\"type\":\"scattergeo\"}],\"scattergl\":[{\"marker\":{\"colorbar\":{\"outlinewidth\":0,\"ticks\":\"\"}},\"type\":\"scattergl\"}],\"scattermapbox\":[{\"marker\":{\"colorbar\":{\"outlinewidth\":0,\"ticks\":\"\"}},\"type\":\"scattermapbox\"}],\"scatterpolar\":[{\"marker\":{\"colorbar\":{\"outlinewidth\":0,\"ticks\":\"\"}},\"type\":\"scatterpolar\"}],\"scatterpolargl\":[{\"marker\":{\"colorbar\":{\"outlinewidth\":0,\"ticks\":\"\"}},\"type\":\"scatterpolargl\"}],\"scatterternary\":[{\"marker\":{\"colorbar\":{\"outlinewidth\":0,\"ticks\":\"\"}},\"type\":\"scatterternary\"}],\"surface\":[{\"colorbar\":{\"outlinewidth\":0,\"ticks\":\"\"},\"colorscale\":[[0.0,\"#0d0887\"],[0.1111111111111111,\"#46039f\"],[0.2222222222222222,\"#7201a8\"],[0.3333333333333333,\"#9c179e\"],[0.4444444444444444,\"#bd3786\"],[0.5555555555555556,\"#d8576b\"],[0.6666666666666666,\"#ed7953\"],[0.7777777777777778,\"#fb9f3a\"],[0.8888888888888888,\"#fdca26\"],[1.0,\"#f0f921\"]],\"type\":\"surface\"}],\"table\":[{\"cells\":{\"fill\":{\"color\":\"#EBF0F8\"},\"line\":{\"color\":\"white\"}},\"header\":{\"fill\":{\"color\":\"#C8D4E3\"},\"line\":{\"color\":\"white\"}},\"type\":\"table\"}]},\"layout\":{\"annotationdefaults\":{\"arrowcolor\":\"#2a3f5f\",\"arrowhead\":0,\"arrowwidth\":1},\"autotypenumbers\":\"strict\",\"coloraxis\":{\"colorbar\":{\"outlinewidth\":0,\"ticks\":\"\"}},\"colorscale\":{\"diverging\":[[0,\"#8e0152\"],[0.1,\"#c51b7d\"],[0.2,\"#de77ae\"],[0.3,\"#f1b6da\"],[0.4,\"#fde0ef\"],[0.5,\"#f7f7f7\"],[0.6,\"#e6f5d0\"],[0.7,\"#b8e186\"],[0.8,\"#7fbc41\"],[0.9,\"#4d9221\"],[1,\"#276419\"]],\"sequential\":[[0.0,\"#0d0887\"],[0.1111111111111111,\"#46039f\"],[0.2222222222222222,\"#7201a8\"],[0.3333333333333333,\"#9c179e\"],[0.4444444444444444,\"#bd3786\"],[0.5555555555555556,\"#d8576b\"],[0.6666666666666666,\"#ed7953\"],[0.7777777777777778,\"#fb9f3a\"],[0.8888888888888888,\"#fdca26\"],[1.0,\"#f0f921\"]],\"sequentialminus\":[[0.0,\"#0d0887\"],[0.1111111111111111,\"#46039f\"],[0.2222222222222222,\"#7201a8\"],[0.3333333333333333,\"#9c179e\"],[0.4444444444444444,\"#bd3786\"],[0.5555555555555556,\"#d8576b\"],[0.6666666666666666,\"#ed7953\"],[0.7777777777777778,\"#fb9f3a\"],[0.8888888888888888,\"#fdca26\"],[1.0,\"#f0f921\"]]},\"colorway\":[\"#636efa\",\"#EF553B\",\"#00cc96\",\"#ab63fa\",\"#FFA15A\",\"#19d3f3\",\"#FF6692\",\"#B6E880\",\"#FF97FF\",\"#FECB52\"],\"font\":{\"color\":\"#2a3f5f\"},\"geo\":{\"bgcolor\":\"white\",\"lakecolor\":\"white\",\"landcolor\":\"#E5ECF6\",\"showlakes\":true,\"showland\":true,\"subunitcolor\":\"white\"},\"hoverlabel\":{\"align\":\"left\"},\"hovermode\":\"closest\",\"mapbox\":{\"style\":\"light\"},\"paper_bgcolor\":\"white\",\"plot_bgcolor\":\"#E5ECF6\",\"polar\":{\"angularaxis\":{\"gridcolor\":\"white\",\"linecolor\":\"white\",\"ticks\":\"\"},\"bgcolor\":\"#E5ECF6\",\"radialaxis\":{\"gridcolor\":\"white\",\"linecolor\":\"white\",\"ticks\":\"\"}},\"scene\":{\"xaxis\":{\"backgroundcolor\":\"#E5ECF6\",\"gridcolor\":\"white\",\"gridwidth\":2,\"linecolor\":\"white\",\"showbackground\":true,\"ticks\":\"\",\"zerolinecolor\":\"white\"},\"yaxis\":{\"backgroundcolor\":\"#E5ECF6\",\"gridcolor\":\"white\",\"gridwidth\":2,\"linecolor\":\"white\",\"showbackground\":true,\"ticks\":\"\",\"zerolinecolor\":\"white\"},\"zaxis\":{\"backgroundcolor\":\"#E5ECF6\",\"gridcolor\":\"white\",\"gridwidth\":2,\"linecolor\":\"white\",\"showbackground\":true,\"ticks\":\"\",\"zerolinecolor\":\"white\"}},\"shapedefaults\":{\"line\":{\"color\":\"#2a3f5f\"}},\"ternary\":{\"aaxis\":{\"gridcolor\":\"white\",\"linecolor\":\"white\",\"ticks\":\"\"},\"baxis\":{\"gridcolor\":\"white\",\"linecolor\":\"white\",\"ticks\":\"\"},\"bgcolor\":\"#E5ECF6\",\"caxis\":{\"gridcolor\":\"white\",\"linecolor\":\"white\",\"ticks\":\"\"}},\"title\":{\"x\":0.05},\"xaxis\":{\"automargin\":true,\"gridcolor\":\"white\",\"linecolor\":\"white\",\"ticks\":\"\",\"title\":{\"standoff\":15},\"zerolinecolor\":\"white\",\"zerolinewidth\":2},\"yaxis\":{\"automargin\":true,\"gridcolor\":\"white\",\"linecolor\":\"white\",\"ticks\":\"\",\"title\":{\"standoff\":15},\"zerolinecolor\":\"white\",\"zerolinewidth\":2}}},\"xaxis\":{\"anchor\":\"y\",\"domain\":[0.0,1.0],\"title\":{\"text\":\"Montante Relacional\"},\"showticklabels\":false},\"yaxis\":{\"anchor\":\"x\",\"domain\":[0.0,1.0],\"title\":{\"text\":\"Modelo\"},\"categoryorder\":\"total ascending\",\"showticklabels\":true},\"legend\":{\"title\":{\"text\":\"Legenda da rela\\u00e7\\u00e3o de cores\"},\"tracegroupgap\":0},\"margin\":{\"t\":60},\"barmode\":\"relative\",\"coloraxis\":{\"showscale\":false},\"shapes\":[{\"type\":\"line\",\"x0\":0,\"x1\":0,\"xref\":\"x\",\"y0\":0,\"y1\":1,\"yref\":\"y domain\"}],\"annotations\":[{\"align\":\"center\",\"arrowcolor\":\"#636363\",\"arrowhead\":2,\"arrowsize\":1,\"arrowwidth\":2,\"ax\":0,\"ay\":-45,\"bgcolor\":\"blue\",\"bordercolor\":\"#c7c7c7\",\"borderpad\":4,\"borderwidth\":2,\"font\":{\"color\":\"#ffffff\",\"family\":\"Courier New, monospace\",\"size\":16},\"opacity\":1,\"showarrow\":true,\"text\":\"Linha Neutra<br>(M\\u00ednimo Aceit\\u00e1vel): 14\",\"x\":0,\"xref\":\"x\",\"y\":7,\"yref\":\"y\"}],\"title\":{\"text\":\"Compara\\u00e7\\u00e3o com Indicadores de Desempenho e Classificadores: Tamanho de tela\"},\"hovermode\":\"y unified\"},                        {\"responsive\": true}                    ).then(function(){\n",
              "                            \n",
              "var gd = document.getElementById('f2ce8ce2-d0f7-4b57-a4cd-6574ec2261ea');\n",
              "var x = new MutationObserver(function (mutations, observer) {{\n",
              "        var display = window.getComputedStyle(gd).display;\n",
              "        if (!display || display === 'none') {{\n",
              "            console.log([gd, 'removed!']);\n",
              "            Plotly.purge(gd);\n",
              "            observer.disconnect();\n",
              "        }}\n",
              "}});\n",
              "\n",
              "// Listen for the removal of the full notebook cells\n",
              "var notebookContainer = gd.closest('#notebook-container');\n",
              "if (notebookContainer) {{\n",
              "    x.observe(notebookContainer, {childList: true});\n",
              "}}\n",
              "\n",
              "// Listen for the clearing of the current output cell\n",
              "var outputEl = gd.closest('.output');\n",
              "if (outputEl) {{\n",
              "    x.observe(outputEl, {childList: true});\n",
              "}}\n",
              "\n",
              "                        })                };                            </script>        </div>\n",
              "</body>\n",
              "</html>"
            ]
          },
          "metadata": {}
        },
        {
          "output_type": "display_data",
          "data": {
            "text/html": [
              "<html>\n",
              "<head><meta charset=\"utf-8\" /></head>\n",
              "<body>\n",
              "    <div>            <script src=\"https://cdnjs.cloudflare.com/ajax/libs/mathjax/2.7.5/MathJax.js?config=TeX-AMS-MML_SVG\"></script><script type=\"text/javascript\">if (window.MathJax) {MathJax.Hub.Config({SVG: {font: \"STIX-Web\"}});}</script>                <script type=\"text/javascript\">window.PlotlyConfig = {MathJaxConfig: 'local'};</script>\n",
              "        <script src=\"https://cdn.plot.ly/plotly-2.8.3.min.js\"></script>                <div id=\"351c1792-b3b1-427c-9969-5aba2bd5420e\" class=\"plotly-graph-div\" style=\"height:525px; width:100%;\"></div>            <script type=\"text/javascript\">                                    window.PLOTLYENV=window.PLOTLYENV || {};                                    if (document.getElementById(\"351c1792-b3b1-427c-9969-5aba2bd5420e\")) {                    Plotly.newPlot(                        \"351c1792-b3b1-427c-9969-5aba2bd5420e\",                        [{\"alignmentgroup\":\"True\",\"customdata\":[[\"Desempenho\",\"33%\",\"Desempenho\"],[\"Desempenho\",\"0%\",\"Desempenho\"],[\"Desempenho\",\"0%\",\"Desempenho\"],[\"Desempenho\",\"33%\",\"Desempenho\"],[\"Desempenho\",\"66%\",\"Desempenho\"]],\"hovertemplate\":\"<b>%{hovertext}</b><br><br>Porcentagem desempenho=%{customdata[1]}<br>Cor indicativa=%{customdata[2]}<extra></extra>\",\"hovertext\":[\"Desempenho\",\"Desempenho\",\"Desempenho\",\"Desempenho\",\"Desempenho\"],\"legendgroup\":\"Desempenho\",\"marker\":{\"color\":\"red\",\"pattern\":{\"shape\":\"\"}},\"name\":\"Desempenho\",\"offsetgroup\":\"Desempenho\",\"orientation\":\"h\",\"showlegend\":true,\"textposition\":\"auto\",\"x\":[0.33333333333333326,0.0,0.0,0.33333333333333326,0.6666666666666667],\"xaxis\":\"x\",\"y\":[\"Acer\",\"Lenovo\",\"DELL\",\"Samsung\",\"Positivo\"],\"yaxis\":\"y\",\"type\":\"bar\"},{\"alignmentgroup\":\"True\",\"customdata\":[[\"Classificador\",\"66%\",\"Classificador\"],[\"Classificador\",\"0%\",\"Classificador\"]],\"hovertemplate\":\"<b>%{hovertext}</b><br><br>Porcentagem desempenho=%{customdata[1]}<br>Cor indicativa=%{customdata[2]}<extra></extra>\",\"hovertext\":[\"Classificador\",\"Classificador\"],\"legendgroup\":\"Classificador\",\"marker\":{\"color\":\"blue\",\"pattern\":{\"shape\":\"\"}},\"name\":\"Classificador\",\"offsetgroup\":\"Classificador\",\"orientation\":\"h\",\"showlegend\":true,\"textposition\":\"auto\",\"x\":[0.6666666666666667,0.0],\"xaxis\":\"x\",\"y\":[\"BOM\",\"NEUTRO\"],\"yaxis\":\"y\",\"type\":\"bar\"}],                        {\"template\":{\"data\":{\"bar\":[{\"error_x\":{\"color\":\"#2a3f5f\"},\"error_y\":{\"color\":\"#2a3f5f\"},\"marker\":{\"line\":{\"color\":\"#E5ECF6\",\"width\":0.5},\"pattern\":{\"fillmode\":\"overlay\",\"size\":10,\"solidity\":0.2}},\"type\":\"bar\"}],\"barpolar\":[{\"marker\":{\"line\":{\"color\":\"#E5ECF6\",\"width\":0.5},\"pattern\":{\"fillmode\":\"overlay\",\"size\":10,\"solidity\":0.2}},\"type\":\"barpolar\"}],\"carpet\":[{\"aaxis\":{\"endlinecolor\":\"#2a3f5f\",\"gridcolor\":\"white\",\"linecolor\":\"white\",\"minorgridcolor\":\"white\",\"startlinecolor\":\"#2a3f5f\"},\"baxis\":{\"endlinecolor\":\"#2a3f5f\",\"gridcolor\":\"white\",\"linecolor\":\"white\",\"minorgridcolor\":\"white\",\"startlinecolor\":\"#2a3f5f\"},\"type\":\"carpet\"}],\"choropleth\":[{\"colorbar\":{\"outlinewidth\":0,\"ticks\":\"\"},\"type\":\"choropleth\"}],\"contour\":[{\"colorbar\":{\"outlinewidth\":0,\"ticks\":\"\"},\"colorscale\":[[0.0,\"#0d0887\"],[0.1111111111111111,\"#46039f\"],[0.2222222222222222,\"#7201a8\"],[0.3333333333333333,\"#9c179e\"],[0.4444444444444444,\"#bd3786\"],[0.5555555555555556,\"#d8576b\"],[0.6666666666666666,\"#ed7953\"],[0.7777777777777778,\"#fb9f3a\"],[0.8888888888888888,\"#fdca26\"],[1.0,\"#f0f921\"]],\"type\":\"contour\"}],\"contourcarpet\":[{\"colorbar\":{\"outlinewidth\":0,\"ticks\":\"\"},\"type\":\"contourcarpet\"}],\"heatmap\":[{\"colorbar\":{\"outlinewidth\":0,\"ticks\":\"\"},\"colorscale\":[[0.0,\"#0d0887\"],[0.1111111111111111,\"#46039f\"],[0.2222222222222222,\"#7201a8\"],[0.3333333333333333,\"#9c179e\"],[0.4444444444444444,\"#bd3786\"],[0.5555555555555556,\"#d8576b\"],[0.6666666666666666,\"#ed7953\"],[0.7777777777777778,\"#fb9f3a\"],[0.8888888888888888,\"#fdca26\"],[1.0,\"#f0f921\"]],\"type\":\"heatmap\"}],\"heatmapgl\":[{\"colorbar\":{\"outlinewidth\":0,\"ticks\":\"\"},\"colorscale\":[[0.0,\"#0d0887\"],[0.1111111111111111,\"#46039f\"],[0.2222222222222222,\"#7201a8\"],[0.3333333333333333,\"#9c179e\"],[0.4444444444444444,\"#bd3786\"],[0.5555555555555556,\"#d8576b\"],[0.6666666666666666,\"#ed7953\"],[0.7777777777777778,\"#fb9f3a\"],[0.8888888888888888,\"#fdca26\"],[1.0,\"#f0f921\"]],\"type\":\"heatmapgl\"}],\"histogram\":[{\"marker\":{\"pattern\":{\"fillmode\":\"overlay\",\"size\":10,\"solidity\":0.2}},\"type\":\"histogram\"}],\"histogram2d\":[{\"colorbar\":{\"outlinewidth\":0,\"ticks\":\"\"},\"colorscale\":[[0.0,\"#0d0887\"],[0.1111111111111111,\"#46039f\"],[0.2222222222222222,\"#7201a8\"],[0.3333333333333333,\"#9c179e\"],[0.4444444444444444,\"#bd3786\"],[0.5555555555555556,\"#d8576b\"],[0.6666666666666666,\"#ed7953\"],[0.7777777777777778,\"#fb9f3a\"],[0.8888888888888888,\"#fdca26\"],[1.0,\"#f0f921\"]],\"type\":\"histogram2d\"}],\"histogram2dcontour\":[{\"colorbar\":{\"outlinewidth\":0,\"ticks\":\"\"},\"colorscale\":[[0.0,\"#0d0887\"],[0.1111111111111111,\"#46039f\"],[0.2222222222222222,\"#7201a8\"],[0.3333333333333333,\"#9c179e\"],[0.4444444444444444,\"#bd3786\"],[0.5555555555555556,\"#d8576b\"],[0.6666666666666666,\"#ed7953\"],[0.7777777777777778,\"#fb9f3a\"],[0.8888888888888888,\"#fdca26\"],[1.0,\"#f0f921\"]],\"type\":\"histogram2dcontour\"}],\"mesh3d\":[{\"colorbar\":{\"outlinewidth\":0,\"ticks\":\"\"},\"type\":\"mesh3d\"}],\"parcoords\":[{\"line\":{\"colorbar\":{\"outlinewidth\":0,\"ticks\":\"\"}},\"type\":\"parcoords\"}],\"pie\":[{\"automargin\":true,\"type\":\"pie\"}],\"scatter\":[{\"marker\":{\"colorbar\":{\"outlinewidth\":0,\"ticks\":\"\"}},\"type\":\"scatter\"}],\"scatter3d\":[{\"line\":{\"colorbar\":{\"outlinewidth\":0,\"ticks\":\"\"}},\"marker\":{\"colorbar\":{\"outlinewidth\":0,\"ticks\":\"\"}},\"type\":\"scatter3d\"}],\"scattercarpet\":[{\"marker\":{\"colorbar\":{\"outlinewidth\":0,\"ticks\":\"\"}},\"type\":\"scattercarpet\"}],\"scattergeo\":[{\"marker\":{\"colorbar\":{\"outlinewidth\":0,\"ticks\":\"\"}},\"type\":\"scattergeo\"}],\"scattergl\":[{\"marker\":{\"colorbar\":{\"outlinewidth\":0,\"ticks\":\"\"}},\"type\":\"scattergl\"}],\"scattermapbox\":[{\"marker\":{\"colorbar\":{\"outlinewidth\":0,\"ticks\":\"\"}},\"type\":\"scattermapbox\"}],\"scatterpolar\":[{\"marker\":{\"colorbar\":{\"outlinewidth\":0,\"ticks\":\"\"}},\"type\":\"scatterpolar\"}],\"scatterpolargl\":[{\"marker\":{\"colorbar\":{\"outlinewidth\":0,\"ticks\":\"\"}},\"type\":\"scatterpolargl\"}],\"scatterternary\":[{\"marker\":{\"colorbar\":{\"outlinewidth\":0,\"ticks\":\"\"}},\"type\":\"scatterternary\"}],\"surface\":[{\"colorbar\":{\"outlinewidth\":0,\"ticks\":\"\"},\"colorscale\":[[0.0,\"#0d0887\"],[0.1111111111111111,\"#46039f\"],[0.2222222222222222,\"#7201a8\"],[0.3333333333333333,\"#9c179e\"],[0.4444444444444444,\"#bd3786\"],[0.5555555555555556,\"#d8576b\"],[0.6666666666666666,\"#ed7953\"],[0.7777777777777778,\"#fb9f3a\"],[0.8888888888888888,\"#fdca26\"],[1.0,\"#f0f921\"]],\"type\":\"surface\"}],\"table\":[{\"cells\":{\"fill\":{\"color\":\"#EBF0F8\"},\"line\":{\"color\":\"white\"}},\"header\":{\"fill\":{\"color\":\"#C8D4E3\"},\"line\":{\"color\":\"white\"}},\"type\":\"table\"}]},\"layout\":{\"annotationdefaults\":{\"arrowcolor\":\"#2a3f5f\",\"arrowhead\":0,\"arrowwidth\":1},\"autotypenumbers\":\"strict\",\"coloraxis\":{\"colorbar\":{\"outlinewidth\":0,\"ticks\":\"\"}},\"colorscale\":{\"diverging\":[[0,\"#8e0152\"],[0.1,\"#c51b7d\"],[0.2,\"#de77ae\"],[0.3,\"#f1b6da\"],[0.4,\"#fde0ef\"],[0.5,\"#f7f7f7\"],[0.6,\"#e6f5d0\"],[0.7,\"#b8e186\"],[0.8,\"#7fbc41\"],[0.9,\"#4d9221\"],[1,\"#276419\"]],\"sequential\":[[0.0,\"#0d0887\"],[0.1111111111111111,\"#46039f\"],[0.2222222222222222,\"#7201a8\"],[0.3333333333333333,\"#9c179e\"],[0.4444444444444444,\"#bd3786\"],[0.5555555555555556,\"#d8576b\"],[0.6666666666666666,\"#ed7953\"],[0.7777777777777778,\"#fb9f3a\"],[0.8888888888888888,\"#fdca26\"],[1.0,\"#f0f921\"]],\"sequentialminus\":[[0.0,\"#0d0887\"],[0.1111111111111111,\"#46039f\"],[0.2222222222222222,\"#7201a8\"],[0.3333333333333333,\"#9c179e\"],[0.4444444444444444,\"#bd3786\"],[0.5555555555555556,\"#d8576b\"],[0.6666666666666666,\"#ed7953\"],[0.7777777777777778,\"#fb9f3a\"],[0.8888888888888888,\"#fdca26\"],[1.0,\"#f0f921\"]]},\"colorway\":[\"#636efa\",\"#EF553B\",\"#00cc96\",\"#ab63fa\",\"#FFA15A\",\"#19d3f3\",\"#FF6692\",\"#B6E880\",\"#FF97FF\",\"#FECB52\"],\"font\":{\"color\":\"#2a3f5f\"},\"geo\":{\"bgcolor\":\"white\",\"lakecolor\":\"white\",\"landcolor\":\"#E5ECF6\",\"showlakes\":true,\"showland\":true,\"subunitcolor\":\"white\"},\"hoverlabel\":{\"align\":\"left\"},\"hovermode\":\"closest\",\"mapbox\":{\"style\":\"light\"},\"paper_bgcolor\":\"white\",\"plot_bgcolor\":\"#E5ECF6\",\"polar\":{\"angularaxis\":{\"gridcolor\":\"white\",\"linecolor\":\"white\",\"ticks\":\"\"},\"bgcolor\":\"#E5ECF6\",\"radialaxis\":{\"gridcolor\":\"white\",\"linecolor\":\"white\",\"ticks\":\"\"}},\"scene\":{\"xaxis\":{\"backgroundcolor\":\"#E5ECF6\",\"gridcolor\":\"white\",\"gridwidth\":2,\"linecolor\":\"white\",\"showbackground\":true,\"ticks\":\"\",\"zerolinecolor\":\"white\"},\"yaxis\":{\"backgroundcolor\":\"#E5ECF6\",\"gridcolor\":\"white\",\"gridwidth\":2,\"linecolor\":\"white\",\"showbackground\":true,\"ticks\":\"\",\"zerolinecolor\":\"white\"},\"zaxis\":{\"backgroundcolor\":\"#E5ECF6\",\"gridcolor\":\"white\",\"gridwidth\":2,\"linecolor\":\"white\",\"showbackground\":true,\"ticks\":\"\",\"zerolinecolor\":\"white\"}},\"shapedefaults\":{\"line\":{\"color\":\"#2a3f5f\"}},\"ternary\":{\"aaxis\":{\"gridcolor\":\"white\",\"linecolor\":\"white\",\"ticks\":\"\"},\"baxis\":{\"gridcolor\":\"white\",\"linecolor\":\"white\",\"ticks\":\"\"},\"bgcolor\":\"#E5ECF6\",\"caxis\":{\"gridcolor\":\"white\",\"linecolor\":\"white\",\"ticks\":\"\"}},\"title\":{\"x\":0.05},\"xaxis\":{\"automargin\":true,\"gridcolor\":\"white\",\"linecolor\":\"white\",\"ticks\":\"\",\"title\":{\"standoff\":15},\"zerolinecolor\":\"white\",\"zerolinewidth\":2},\"yaxis\":{\"automargin\":true,\"gridcolor\":\"white\",\"linecolor\":\"white\",\"ticks\":\"\",\"title\":{\"standoff\":15},\"zerolinecolor\":\"white\",\"zerolinewidth\":2}}},\"xaxis\":{\"anchor\":\"y\",\"domain\":[0.0,1.0],\"title\":{\"text\":\"Montante Relacional\"},\"showticklabels\":false},\"yaxis\":{\"anchor\":\"x\",\"domain\":[0.0,1.0],\"title\":{\"text\":\"Modelo\"},\"categoryorder\":\"total ascending\",\"showticklabels\":true},\"legend\":{\"title\":{\"text\":\"Legenda da rela\\u00e7\\u00e3o de cores\"},\"tracegroupgap\":0},\"margin\":{\"t\":60},\"barmode\":\"relative\",\"coloraxis\":{\"showscale\":false},\"shapes\":[{\"type\":\"line\",\"x0\":0,\"x1\":0,\"xref\":\"x\",\"y0\":0,\"y1\":1,\"yref\":\"y domain\"}],\"annotations\":[{\"align\":\"center\",\"arrowcolor\":\"#636363\",\"arrowhead\":2,\"arrowsize\":1,\"arrowwidth\":2,\"ax\":0,\"ay\":-45,\"bgcolor\":\"blue\",\"bordercolor\":\"#c7c7c7\",\"borderpad\":4,\"borderwidth\":2,\"font\":{\"color\":\"#ffffff\",\"family\":\"Courier New, monospace\",\"size\":16},\"opacity\":1,\"showarrow\":true,\"text\":\"Linha Neutra<br>(M\\u00ednimo Aceit\\u00e1vel): 3000\",\"x\":0,\"xref\":\"x\",\"y\":7,\"yref\":\"y\"}],\"title\":{\"text\":\"Compara\\u00e7\\u00e3o com Indicadores de Desempenho e Classificadores: Bateria mAh\"},\"hovermode\":\"y unified\"},                        {\"responsive\": true}                    ).then(function(){\n",
              "                            \n",
              "var gd = document.getElementById('351c1792-b3b1-427c-9969-5aba2bd5420e');\n",
              "var x = new MutationObserver(function (mutations, observer) {{\n",
              "        var display = window.getComputedStyle(gd).display;\n",
              "        if (!display || display === 'none') {{\n",
              "            console.log([gd, 'removed!']);\n",
              "            Plotly.purge(gd);\n",
              "            observer.disconnect();\n",
              "        }}\n",
              "}});\n",
              "\n",
              "// Listen for the removal of the full notebook cells\n",
              "var notebookContainer = gd.closest('#notebook-container');\n",
              "if (notebookContainer) {{\n",
              "    x.observe(notebookContainer, {childList: true});\n",
              "}}\n",
              "\n",
              "// Listen for the clearing of the current output cell\n",
              "var outputEl = gd.closest('.output');\n",
              "if (outputEl) {{\n",
              "    x.observe(outputEl, {childList: true});\n",
              "}}\n",
              "\n",
              "                        })                };                            </script>        </div>\n",
              "</body>\n",
              "</html>"
            ]
          },
          "metadata": {}
        },
        {
          "output_type": "stream",
          "name": "stdout",
          "text": [
            "Object\n"
          ]
        }
      ],
      "source": [
        "df = pd.DataFrame()\n",
        "\n",
        "# Supondo a compra de um notebook (altere como desejar)\n",
        "\n",
        "'''\n",
        "  Instruções de uso:\n",
        "    - Cada linha (ex: df['Modelo']) representa uma coluna, portanto, preencha\n",
        "    cada item referente a cada uma das colunas de forma sequencial conforme mostrado.\n",
        "\n",
        "    - As tabelas geradas se referem unica e somente a dados numéricos, logo,\n",
        "    para geração dos dados qualitativos será necessário executar a célula identificada\n",
        "    como (CÉLULA 2) uma a uma conforme a quantidade de dados qualitativos inseridos no\n",
        "    dataframe. O programa assume como 'object' dados qualitativos, sendo assim, é\n",
        "    fácil saber diferenciar e preencher os dados para a CÉLULA 2.\n",
        "'''\n",
        "\n",
        "# Tabela principal de dados\n",
        "# Altere aqui! - Início\n",
        "df['Modelo'] = ['Acer', 'Lenovo', 'DELL', 'Samsung', 'Positivo']\n",
        "df['Memória RAM'] = [2, 4, 6, 8, 16]\n",
        "df['Armazenamento'] = [960, 480, 480, 240, 120]\n",
        "df['Tamanho de tela'] = [14, 15, 15, 14, 16]\n",
        "df['Bateria mAh'] = [4000, 3000, 3000, 4000, 5000]\n",
        "df['Cor'] = ['Preto', 'Prata', 'Vermelho', 'Azul', 'Verde']\n",
        "\n",
        "# Tabela dos classificadores\n",
        "\n",
        "classificadores = pd.DataFrame()\n",
        "\n",
        "classificadores['Modelo'] = ['BOM', 'NEUTRO']\n",
        "classificadores['Memória RAM'] = [8, 4]\n",
        "classificadores['Armazenamento'] = [960, 120]\n",
        "classificadores['Tamanho de tela'] = [14, 14]\n",
        "classificadores['Bateria mAh'] = [5000, 3000]\n",
        "classificadores['Cor'] = ['Prata', 'Preto']\n",
        "\n",
        "# Altere aqui! - Final\n",
        "\n",
        "# A linha abaixo faz a concatenação dos valores novos referentes a BOM e NEUTRO\n",
        "df = pd.concat([df, classificadores], ignore_index=True)\n",
        "\n",
        "# Definindo a tabela auxiliar que fará os gráficos\n",
        "\n",
        "df_analise = pd.DataFrame()\n",
        "\n",
        "df_analise['Montante Relacional'] = pd.Series(dtype='int')\n",
        "\n",
        "for i in range(len(df)-1):\n",
        "    aux_montanteRelacional = df.columns.values[i]\n",
        "    val_neutro = df[aux_montanteRelacional][df.index[df['Modelo'] == 'NEUTRO'][0]]\n",
        "    if df.dtypes[i] == 'int64':\n",
        "        \n",
        "        for i in range (len(df)):\n",
        "            df.loc[i, 'Montante Relacional'] = df[aux_montanteRelacional][i]/val_neutro\n",
        "            if (df['Montante Relacional'][i] == val_neutro).all() & (df['Montante Relacional'] <= val_neutro).all():\n",
        "                df.loc[i, 'Montante Relacional'] = 0\n",
        "            elif df['Montante Relacional'][i] < 1:\n",
        "                df.loc[i, 'Montante Relacional'] = df['Montante Relacional'][i] * (-1)\n",
        "            else:\n",
        "                df.loc[i, 'Montante Relacional'] = (df['Montante Relacional'][i])-1\n",
        "\n",
        "        df_analise['Montante Relacional'] = df['Montante Relacional'].astype('float')\n",
        "        df_analise['Modelo'] = df['Modelo'].astype('object')\n",
        "        df.drop(['Montante Relacional'], axis=1, inplace=True)\n",
        "        \n",
        "        for i in range(len(df)):\n",
        "            if df['Modelo'][i] == 'NEUTRO' or df['Modelo'][i] == 'BOM':\n",
        "                df_analise.loc[i, 'Color'] = 'Classificador'\n",
        "            else:\n",
        "                df_analise['Color'] = 'Desempenho'\n",
        "\n",
        "        \n",
        "        cores1 = ['red', 'blue']\n",
        "        cores2 = ['pink', 'green']\n",
        "        cores3 = ['orange', 'purple']\n",
        "        cores4 = ['orange', 'gray']\n",
        "\n",
        "        df_analise['Porcentagem desempenho'] = pd.Series(dtype='str')\n",
        "        for i in range (len(df)):\n",
        "            df_analise.loc[i, 'Porcentagem desempenho'] = ((df_analise['Montante Relacional'][i]) * 100).astype(int).astype(str) + '%'\n",
        "\n",
        "        graph = px.bar(df_analise, x='Montante Relacional', y='Modelo', orientation='h', \n",
        "                    color='Color', color_discrete_sequence=cores1, text_auto=False, hover_name='Color',\n",
        "                    hover_data={'Color':False, 'Modelo':False, 'Montante Relacional':False,\n",
        "                                'Porcentagem desempenho': True, 'Cor indicativa': (df_analise['Color'])})\n",
        "\n",
        "        graph.update_layout(yaxis={'categoryorder':'total ascending'})\n",
        "        graph.update_xaxes(showticklabels=False)\n",
        "        graph.update_yaxes(showticklabels=True)\n",
        "        graph.update_coloraxes(showscale=False)\n",
        "        graph.add_vline(x=0)\n",
        "        graph.add_annotation(\n",
        "                x=0,\n",
        "                # y é definido como o tamanho do array, para que a linha fique no meio e em altura suficiente\n",
        "                y=len(df_analise),\n",
        "                xref=\"x\",\n",
        "                yref=\"y\",\n",
        "                text=f\"Linha Neutra<br>(Mínimo Aceitável): {val_neutro}\",\n",
        "                showarrow=True,\n",
        "                font=dict(\n",
        "                    family=\"Courier New, monospace\",\n",
        "                    size=16,\n",
        "                    color=\"#ffffff\"\n",
        "                    ),\n",
        "                align=\"center\",\n",
        "                arrowhead=2,\n",
        "                arrowsize=1,\n",
        "                arrowwidth=2,\n",
        "                arrowcolor=\"#636363\",\n",
        "                ax=0,\n",
        "                ay=-45,\n",
        "                bordercolor=\"#c7c7c7\",\n",
        "                borderwidth=2,\n",
        "                borderpad=4,\n",
        "                bgcolor=cores1[1],\n",
        "                opacity=1\n",
        "                )\n",
        "\n",
        "        graph.update_layout(title='Comparação com Indicadores de Desempenho e Classificadores: {}'.format(aux_montanteRelacional),\n",
        "                            legend_title_text='Legenda da relação de cores')\n",
        "        graph.update_layout(hovermode='y unified')\n",
        "\n",
        "        graph.show();\n",
        "        \n",
        "    else:\n",
        "        print('Object')"
      ]
    },
    {
      "cell_type": "markdown",
      "source": [
        "## CÉLULA 2"
      ],
      "metadata": {
        "id": "oDsU0M76_Y2b"
      }
    },
    {
      "cell_type": "code",
      "source": [
        "df = pd.DataFrame()\n",
        "\n",
        "# Situação/objeto exemplo: compra de um celular\n",
        "# Começar considerando cores como categoria a ser analisada\n",
        "# Considerar Vermelho como Muito desejável, Preto como Neutro e Verde como Nada desejável\n",
        "\n",
        "# A ideia é a criação de diversos métodos de análise e com gráficos a serem analisados\n",
        "# No caso, cada cor receberia um slider para que o usuário selecione a sua importância\n",
        "# Considerando valores entre os intervalos dados (trabalhando na base de 0 até 100, logo, números decimais)\n",
        "# Onde 0 é o mínimo desejável e 1 é o máximo desejável\n",
        "\n",
        "'''\n",
        "  Instruções de uso:\n",
        "    - Com o dataframe já carregado da CÉLULA 1, basta alterar os dados de teste\n",
        "    (placeholder) aqui presentes e executar o código.\n",
        "    DICA: Crie cópias da célula, assim execute o código uma vez para cada dado\n",
        "    qualitativo que desejar comparar.\n",
        "'''\n",
        "\n",
        "# Altere aqui! - Início\n",
        "df['Cores'] = ['Vermelho', 'Verde', 'Branco', 'Preto', 'BOM', 'NEUTRO']\n",
        "df['Valor Cores'] = [90, 10, 40, 50, 80, 50]\n",
        "# Altere aqui! 0 Final\n",
        "\n",
        "df['Tam_scatter'] = [1]*len(df)\n",
        "symbols = ['diamond-wide']*len(df)\n",
        "\n",
        "df['Valor X'] = [0]*len(df)\n",
        "\n",
        "val_neutro = df['Valor Cores'][df.index[df['Cores'] == 'NEUTRO'][0]]\n",
        "val_bom = df['Valor Cores'][df.index[df['Cores'] == 'BOM'][0]]\n",
        "\n",
        "df['Definicao'] = pd.Series(dtype='str')\n",
        "for i in range(len(df)):\n",
        "    if df['Cores'][i] == 'NEUTRO' or df['Cores'][i] == 'BOM':\n",
        "        df.loc[i, 'Definicao'] = 'Classificador'\n",
        "    else:\n",
        "        df['Definicao'] = 'Desempenho'\n",
        "# Diversas cores para daltônicos\n",
        "\n",
        "cores1 = ['red', 'blue']\n",
        "cores2 = ['pink', 'green']\n",
        "cores3 = ['orange', 'purple']\n",
        "cores4 = ['orange', 'gray']\n",
        "\n",
        "graph = px.scatter(df, x='Valor X', y='Valor Cores', title='Comparação com Indicadores de Desempenho e Classificadores',\n",
        "                   color='Cores', symbol_sequence=symbols,\n",
        "                   hover_data={'Cores':False, 'Valor Cores':False, 'Valor X':False,\n",
        "                               'Valor Referencial': (df['Cores'])})\n",
        "\n",
        "graph.update_traces(marker={'size': 20})\n",
        "graph.update_xaxes(fixedrange=True, title=None)\n",
        "graph.update_yaxes(fixedrange=True, title=None)\n",
        "\n",
        "for i in range(len(df)):\n",
        "    if df['Definicao'][i] == 'Classificador' and df['Cores'][i] == 'NEUTRO':\n",
        "        graph.add_hline(y=df['Valor Cores'][i], line_color=cores3[1], line_width=3, x0=0.3, x1=0.7)\n",
        "    elif df['Definicao'][i] == 'Classificador' and df['Cores'][i] == 'BOM':\n",
        "        graph.add_hline(y=df['Valor Cores'][i], line_color=cores3[0], line_width=3, x0=0.3, x1=0.7)\n",
        "\n",
        "\n",
        "graph.update_xaxes(showticklabels=False, showgrid=False)\n",
        "graph.update_yaxes(showticklabels=False, showgrid=False)\n",
        "\n",
        "graph.update_layout(legend=dict(\n",
        "    orientation='h',\n",
        "    yanchor='bottom',\n",
        "    y=-0.2,\n",
        "    xanchor='right',\n",
        "    x=1,\n",
        "    title_text='Variáveis e Cores'\n",
        "))\n",
        "\n",
        "graph.add_vline(x=0, y0=0, y1=1)\n",
        "graph.add_annotation(\n",
        "    x=-0.2,\n",
        "    y=110,\n",
        "    xref='x',\n",
        "    yref='y',\n",
        "    text=f'Linha Neutra<br>(Mínimo Aceitável)',\n",
        "    showarrow=False,\n",
        "    font=dict(\n",
        "            family=\"Courier New, monospace\",\n",
        "            size=16,\n",
        "            color=\"#ffffff\"\n",
        "            ),\n",
        "        align=\"center\",\n",
        "        bordercolor=\"#c7c7c7\",\n",
        "        borderwidth=2,\n",
        "        borderpad=4,\n",
        "        bgcolor=cores3[1],\n",
        "        opacity=1\n",
        ")\n",
        "graph.add_annotation(\n",
        "    x=0.2,\n",
        "    y=110,\n",
        "    xref='x',\n",
        "    yref='y',\n",
        "    text=f'Linha Bom<br>(Muito Desejável)',\n",
        "    showarrow=False,\n",
        "    font=dict(\n",
        "            family=\"Courier New, monospace\",\n",
        "            size=16,\n",
        "            color=\"#ffffff\"\n",
        "            ),\n",
        "        align=\"center\",\n",
        "        bordercolor=\"#c7c7c7\",\n",
        "        borderwidth=2,\n",
        "        borderpad=4,\n",
        "        bgcolor=cores3[0],\n",
        "        opacity=1\n",
        ")\n",
        "graph.show()"
      ],
      "metadata": {
        "colab": {
          "base_uri": "https://localhost:8080/",
          "height": 542
        },
        "id": "9bnF5IVS_Xb1",
        "outputId": "5e8fa6c0-54b1-4753-dd56-8ab82af4267a"
      },
      "execution_count": null,
      "outputs": [
        {
          "output_type": "display_data",
          "data": {
            "text/html": [
              "<html>\n",
              "<head><meta charset=\"utf-8\" /></head>\n",
              "<body>\n",
              "    <div>            <script src=\"https://cdnjs.cloudflare.com/ajax/libs/mathjax/2.7.5/MathJax.js?config=TeX-AMS-MML_SVG\"></script><script type=\"text/javascript\">if (window.MathJax) {MathJax.Hub.Config({SVG: {font: \"STIX-Web\"}});}</script>                <script type=\"text/javascript\">window.PlotlyConfig = {MathJaxConfig: 'local'};</script>\n",
              "        <script src=\"https://cdn.plot.ly/plotly-2.8.3.min.js\"></script>                <div id=\"c1e1abdd-0bc8-4b81-8bb7-8eb443d00e24\" class=\"plotly-graph-div\" style=\"height:525px; width:100%;\"></div>            <script type=\"text/javascript\">                                    window.PLOTLYENV=window.PLOTLYENV || {};                                    if (document.getElementById(\"c1e1abdd-0bc8-4b81-8bb7-8eb443d00e24\")) {                    Plotly.newPlot(                        \"c1e1abdd-0bc8-4b81-8bb7-8eb443d00e24\",                        [{\"customdata\":[[\"Vermelho\",\"Vermelho\"]],\"hovertemplate\":\"Valor Referencial=%{customdata[1]}<extra></extra>\",\"legendgroup\":\"Vermelho\",\"marker\":{\"color\":\"#636efa\",\"symbol\":\"diamond-wide\",\"size\":20},\"mode\":\"markers\",\"name\":\"Vermelho\",\"orientation\":\"v\",\"showlegend\":true,\"x\":[0],\"xaxis\":\"x\",\"y\":[90],\"yaxis\":\"y\",\"type\":\"scatter\"},{\"customdata\":[[\"Verde\",\"Verde\"]],\"hovertemplate\":\"Valor Referencial=%{customdata[1]}<extra></extra>\",\"legendgroup\":\"Verde\",\"marker\":{\"color\":\"#EF553B\",\"symbol\":\"diamond-wide\",\"size\":20},\"mode\":\"markers\",\"name\":\"Verde\",\"orientation\":\"v\",\"showlegend\":true,\"x\":[0],\"xaxis\":\"x\",\"y\":[10],\"yaxis\":\"y\",\"type\":\"scatter\"},{\"customdata\":[[\"Branco\",\"Branco\"]],\"hovertemplate\":\"Valor Referencial=%{customdata[1]}<extra></extra>\",\"legendgroup\":\"Branco\",\"marker\":{\"color\":\"#00cc96\",\"symbol\":\"diamond-wide\",\"size\":20},\"mode\":\"markers\",\"name\":\"Branco\",\"orientation\":\"v\",\"showlegend\":true,\"x\":[0],\"xaxis\":\"x\",\"y\":[40],\"yaxis\":\"y\",\"type\":\"scatter\"},{\"customdata\":[[\"Preto\",\"Preto\"]],\"hovertemplate\":\"Valor Referencial=%{customdata[1]}<extra></extra>\",\"legendgroup\":\"Preto\",\"marker\":{\"color\":\"#ab63fa\",\"symbol\":\"diamond-wide\",\"size\":20},\"mode\":\"markers\",\"name\":\"Preto\",\"orientation\":\"v\",\"showlegend\":true,\"x\":[0],\"xaxis\":\"x\",\"y\":[50],\"yaxis\":\"y\",\"type\":\"scatter\"},{\"customdata\":[[\"BOM\",\"BOM\"]],\"hovertemplate\":\"Valor Referencial=%{customdata[1]}<extra></extra>\",\"legendgroup\":\"BOM\",\"marker\":{\"color\":\"#FFA15A\",\"symbol\":\"diamond-wide\",\"size\":20},\"mode\":\"markers\",\"name\":\"BOM\",\"orientation\":\"v\",\"showlegend\":true,\"x\":[0],\"xaxis\":\"x\",\"y\":[80],\"yaxis\":\"y\",\"type\":\"scatter\"},{\"customdata\":[[\"NEUTRO\",\"NEUTRO\"]],\"hovertemplate\":\"Valor Referencial=%{customdata[1]}<extra></extra>\",\"legendgroup\":\"NEUTRO\",\"marker\":{\"color\":\"#19d3f3\",\"symbol\":\"diamond-wide\",\"size\":20},\"mode\":\"markers\",\"name\":\"NEUTRO\",\"orientation\":\"v\",\"showlegend\":true,\"x\":[0],\"xaxis\":\"x\",\"y\":[50],\"yaxis\":\"y\",\"type\":\"scatter\"}],                        {\"template\":{\"data\":{\"bar\":[{\"error_x\":{\"color\":\"#2a3f5f\"},\"error_y\":{\"color\":\"#2a3f5f\"},\"marker\":{\"line\":{\"color\":\"#E5ECF6\",\"width\":0.5},\"pattern\":{\"fillmode\":\"overlay\",\"size\":10,\"solidity\":0.2}},\"type\":\"bar\"}],\"barpolar\":[{\"marker\":{\"line\":{\"color\":\"#E5ECF6\",\"width\":0.5},\"pattern\":{\"fillmode\":\"overlay\",\"size\":10,\"solidity\":0.2}},\"type\":\"barpolar\"}],\"carpet\":[{\"aaxis\":{\"endlinecolor\":\"#2a3f5f\",\"gridcolor\":\"white\",\"linecolor\":\"white\",\"minorgridcolor\":\"white\",\"startlinecolor\":\"#2a3f5f\"},\"baxis\":{\"endlinecolor\":\"#2a3f5f\",\"gridcolor\":\"white\",\"linecolor\":\"white\",\"minorgridcolor\":\"white\",\"startlinecolor\":\"#2a3f5f\"},\"type\":\"carpet\"}],\"choropleth\":[{\"colorbar\":{\"outlinewidth\":0,\"ticks\":\"\"},\"type\":\"choropleth\"}],\"contour\":[{\"colorbar\":{\"outlinewidth\":0,\"ticks\":\"\"},\"colorscale\":[[0.0,\"#0d0887\"],[0.1111111111111111,\"#46039f\"],[0.2222222222222222,\"#7201a8\"],[0.3333333333333333,\"#9c179e\"],[0.4444444444444444,\"#bd3786\"],[0.5555555555555556,\"#d8576b\"],[0.6666666666666666,\"#ed7953\"],[0.7777777777777778,\"#fb9f3a\"],[0.8888888888888888,\"#fdca26\"],[1.0,\"#f0f921\"]],\"type\":\"contour\"}],\"contourcarpet\":[{\"colorbar\":{\"outlinewidth\":0,\"ticks\":\"\"},\"type\":\"contourcarpet\"}],\"heatmap\":[{\"colorbar\":{\"outlinewidth\":0,\"ticks\":\"\"},\"colorscale\":[[0.0,\"#0d0887\"],[0.1111111111111111,\"#46039f\"],[0.2222222222222222,\"#7201a8\"],[0.3333333333333333,\"#9c179e\"],[0.4444444444444444,\"#bd3786\"],[0.5555555555555556,\"#d8576b\"],[0.6666666666666666,\"#ed7953\"],[0.7777777777777778,\"#fb9f3a\"],[0.8888888888888888,\"#fdca26\"],[1.0,\"#f0f921\"]],\"type\":\"heatmap\"}],\"heatmapgl\":[{\"colorbar\":{\"outlinewidth\":0,\"ticks\":\"\"},\"colorscale\":[[0.0,\"#0d0887\"],[0.1111111111111111,\"#46039f\"],[0.2222222222222222,\"#7201a8\"],[0.3333333333333333,\"#9c179e\"],[0.4444444444444444,\"#bd3786\"],[0.5555555555555556,\"#d8576b\"],[0.6666666666666666,\"#ed7953\"],[0.7777777777777778,\"#fb9f3a\"],[0.8888888888888888,\"#fdca26\"],[1.0,\"#f0f921\"]],\"type\":\"heatmapgl\"}],\"histogram\":[{\"marker\":{\"pattern\":{\"fillmode\":\"overlay\",\"size\":10,\"solidity\":0.2}},\"type\":\"histogram\"}],\"histogram2d\":[{\"colorbar\":{\"outlinewidth\":0,\"ticks\":\"\"},\"colorscale\":[[0.0,\"#0d0887\"],[0.1111111111111111,\"#46039f\"],[0.2222222222222222,\"#7201a8\"],[0.3333333333333333,\"#9c179e\"],[0.4444444444444444,\"#bd3786\"],[0.5555555555555556,\"#d8576b\"],[0.6666666666666666,\"#ed7953\"],[0.7777777777777778,\"#fb9f3a\"],[0.8888888888888888,\"#fdca26\"],[1.0,\"#f0f921\"]],\"type\":\"histogram2d\"}],\"histogram2dcontour\":[{\"colorbar\":{\"outlinewidth\":0,\"ticks\":\"\"},\"colorscale\":[[0.0,\"#0d0887\"],[0.1111111111111111,\"#46039f\"],[0.2222222222222222,\"#7201a8\"],[0.3333333333333333,\"#9c179e\"],[0.4444444444444444,\"#bd3786\"],[0.5555555555555556,\"#d8576b\"],[0.6666666666666666,\"#ed7953\"],[0.7777777777777778,\"#fb9f3a\"],[0.8888888888888888,\"#fdca26\"],[1.0,\"#f0f921\"]],\"type\":\"histogram2dcontour\"}],\"mesh3d\":[{\"colorbar\":{\"outlinewidth\":0,\"ticks\":\"\"},\"type\":\"mesh3d\"}],\"parcoords\":[{\"line\":{\"colorbar\":{\"outlinewidth\":0,\"ticks\":\"\"}},\"type\":\"parcoords\"}],\"pie\":[{\"automargin\":true,\"type\":\"pie\"}],\"scatter\":[{\"marker\":{\"colorbar\":{\"outlinewidth\":0,\"ticks\":\"\"}},\"type\":\"scatter\"}],\"scatter3d\":[{\"line\":{\"colorbar\":{\"outlinewidth\":0,\"ticks\":\"\"}},\"marker\":{\"colorbar\":{\"outlinewidth\":0,\"ticks\":\"\"}},\"type\":\"scatter3d\"}],\"scattercarpet\":[{\"marker\":{\"colorbar\":{\"outlinewidth\":0,\"ticks\":\"\"}},\"type\":\"scattercarpet\"}],\"scattergeo\":[{\"marker\":{\"colorbar\":{\"outlinewidth\":0,\"ticks\":\"\"}},\"type\":\"scattergeo\"}],\"scattergl\":[{\"marker\":{\"colorbar\":{\"outlinewidth\":0,\"ticks\":\"\"}},\"type\":\"scattergl\"}],\"scattermapbox\":[{\"marker\":{\"colorbar\":{\"outlinewidth\":0,\"ticks\":\"\"}},\"type\":\"scattermapbox\"}],\"scatterpolar\":[{\"marker\":{\"colorbar\":{\"outlinewidth\":0,\"ticks\":\"\"}},\"type\":\"scatterpolar\"}],\"scatterpolargl\":[{\"marker\":{\"colorbar\":{\"outlinewidth\":0,\"ticks\":\"\"}},\"type\":\"scatterpolargl\"}],\"scatterternary\":[{\"marker\":{\"colorbar\":{\"outlinewidth\":0,\"ticks\":\"\"}},\"type\":\"scatterternary\"}],\"surface\":[{\"colorbar\":{\"outlinewidth\":0,\"ticks\":\"\"},\"colorscale\":[[0.0,\"#0d0887\"],[0.1111111111111111,\"#46039f\"],[0.2222222222222222,\"#7201a8\"],[0.3333333333333333,\"#9c179e\"],[0.4444444444444444,\"#bd3786\"],[0.5555555555555556,\"#d8576b\"],[0.6666666666666666,\"#ed7953\"],[0.7777777777777778,\"#fb9f3a\"],[0.8888888888888888,\"#fdca26\"],[1.0,\"#f0f921\"]],\"type\":\"surface\"}],\"table\":[{\"cells\":{\"fill\":{\"color\":\"#EBF0F8\"},\"line\":{\"color\":\"white\"}},\"header\":{\"fill\":{\"color\":\"#C8D4E3\"},\"line\":{\"color\":\"white\"}},\"type\":\"table\"}]},\"layout\":{\"annotationdefaults\":{\"arrowcolor\":\"#2a3f5f\",\"arrowhead\":0,\"arrowwidth\":1},\"autotypenumbers\":\"strict\",\"coloraxis\":{\"colorbar\":{\"outlinewidth\":0,\"ticks\":\"\"}},\"colorscale\":{\"diverging\":[[0,\"#8e0152\"],[0.1,\"#c51b7d\"],[0.2,\"#de77ae\"],[0.3,\"#f1b6da\"],[0.4,\"#fde0ef\"],[0.5,\"#f7f7f7\"],[0.6,\"#e6f5d0\"],[0.7,\"#b8e186\"],[0.8,\"#7fbc41\"],[0.9,\"#4d9221\"],[1,\"#276419\"]],\"sequential\":[[0.0,\"#0d0887\"],[0.1111111111111111,\"#46039f\"],[0.2222222222222222,\"#7201a8\"],[0.3333333333333333,\"#9c179e\"],[0.4444444444444444,\"#bd3786\"],[0.5555555555555556,\"#d8576b\"],[0.6666666666666666,\"#ed7953\"],[0.7777777777777778,\"#fb9f3a\"],[0.8888888888888888,\"#fdca26\"],[1.0,\"#f0f921\"]],\"sequentialminus\":[[0.0,\"#0d0887\"],[0.1111111111111111,\"#46039f\"],[0.2222222222222222,\"#7201a8\"],[0.3333333333333333,\"#9c179e\"],[0.4444444444444444,\"#bd3786\"],[0.5555555555555556,\"#d8576b\"],[0.6666666666666666,\"#ed7953\"],[0.7777777777777778,\"#fb9f3a\"],[0.8888888888888888,\"#fdca26\"],[1.0,\"#f0f921\"]]},\"colorway\":[\"#636efa\",\"#EF553B\",\"#00cc96\",\"#ab63fa\",\"#FFA15A\",\"#19d3f3\",\"#FF6692\",\"#B6E880\",\"#FF97FF\",\"#FECB52\"],\"font\":{\"color\":\"#2a3f5f\"},\"geo\":{\"bgcolor\":\"white\",\"lakecolor\":\"white\",\"landcolor\":\"#E5ECF6\",\"showlakes\":true,\"showland\":true,\"subunitcolor\":\"white\"},\"hoverlabel\":{\"align\":\"left\"},\"hovermode\":\"closest\",\"mapbox\":{\"style\":\"light\"},\"paper_bgcolor\":\"white\",\"plot_bgcolor\":\"#E5ECF6\",\"polar\":{\"angularaxis\":{\"gridcolor\":\"white\",\"linecolor\":\"white\",\"ticks\":\"\"},\"bgcolor\":\"#E5ECF6\",\"radialaxis\":{\"gridcolor\":\"white\",\"linecolor\":\"white\",\"ticks\":\"\"}},\"scene\":{\"xaxis\":{\"backgroundcolor\":\"#E5ECF6\",\"gridcolor\":\"white\",\"gridwidth\":2,\"linecolor\":\"white\",\"showbackground\":true,\"ticks\":\"\",\"zerolinecolor\":\"white\"},\"yaxis\":{\"backgroundcolor\":\"#E5ECF6\",\"gridcolor\":\"white\",\"gridwidth\":2,\"linecolor\":\"white\",\"showbackground\":true,\"ticks\":\"\",\"zerolinecolor\":\"white\"},\"zaxis\":{\"backgroundcolor\":\"#E5ECF6\",\"gridcolor\":\"white\",\"gridwidth\":2,\"linecolor\":\"white\",\"showbackground\":true,\"ticks\":\"\",\"zerolinecolor\":\"white\"}},\"shapedefaults\":{\"line\":{\"color\":\"#2a3f5f\"}},\"ternary\":{\"aaxis\":{\"gridcolor\":\"white\",\"linecolor\":\"white\",\"ticks\":\"\"},\"baxis\":{\"gridcolor\":\"white\",\"linecolor\":\"white\",\"ticks\":\"\"},\"bgcolor\":\"#E5ECF6\",\"caxis\":{\"gridcolor\":\"white\",\"linecolor\":\"white\",\"ticks\":\"\"}},\"title\":{\"x\":0.05},\"xaxis\":{\"automargin\":true,\"gridcolor\":\"white\",\"linecolor\":\"white\",\"ticks\":\"\",\"title\":{\"standoff\":15},\"zerolinecolor\":\"white\",\"zerolinewidth\":2},\"yaxis\":{\"automargin\":true,\"gridcolor\":\"white\",\"linecolor\":\"white\",\"ticks\":\"\",\"title\":{\"standoff\":15},\"zerolinecolor\":\"white\",\"zerolinewidth\":2}}},\"xaxis\":{\"anchor\":\"y\",\"domain\":[0.0,1.0],\"title\":{},\"fixedrange\":true,\"showticklabels\":false,\"showgrid\":false},\"yaxis\":{\"anchor\":\"x\",\"domain\":[0.0,1.0],\"title\":{},\"fixedrange\":true,\"showticklabels\":false,\"showgrid\":false},\"legend\":{\"title\":{\"text\":\"Vari\\u00e1veis e Cores\"},\"tracegroupgap\":0,\"orientation\":\"h\",\"yanchor\":\"bottom\",\"y\":-0.2,\"xanchor\":\"right\",\"x\":1},\"title\":{\"text\":\"Compara\\u00e7\\u00e3o com Indicadores de Desempenho e Classificadores\"},\"shapes\":[{\"line\":{\"color\":\"orange\",\"width\":3},\"type\":\"line\",\"x0\":0.3,\"x1\":0.7,\"xref\":\"x domain\",\"y0\":80,\"y1\":80,\"yref\":\"y\"},{\"line\":{\"color\":\"purple\",\"width\":3},\"type\":\"line\",\"x0\":0.3,\"x1\":0.7,\"xref\":\"x domain\",\"y0\":50,\"y1\":50,\"yref\":\"y\"},{\"type\":\"line\",\"x0\":0,\"x1\":0,\"xref\":\"x\",\"y0\":0,\"y1\":1,\"yref\":\"y domain\"}],\"annotations\":[{\"align\":\"center\",\"bgcolor\":\"purple\",\"bordercolor\":\"#c7c7c7\",\"borderpad\":4,\"borderwidth\":2,\"font\":{\"color\":\"#ffffff\",\"family\":\"Courier New, monospace\",\"size\":16},\"opacity\":1,\"showarrow\":false,\"text\":\"Linha Neutra<br>(M\\u00ednimo Aceit\\u00e1vel)\",\"x\":-0.2,\"xref\":\"x\",\"y\":110,\"yref\":\"y\"},{\"align\":\"center\",\"bgcolor\":\"orange\",\"bordercolor\":\"#c7c7c7\",\"borderpad\":4,\"borderwidth\":2,\"font\":{\"color\":\"#ffffff\",\"family\":\"Courier New, monospace\",\"size\":16},\"opacity\":1,\"showarrow\":false,\"text\":\"Linha Bom<br>(Muito Desej\\u00e1vel)\",\"x\":0.2,\"xref\":\"x\",\"y\":110,\"yref\":\"y\"}]},                        {\"responsive\": true}                    ).then(function(){\n",
              "                            \n",
              "var gd = document.getElementById('c1e1abdd-0bc8-4b81-8bb7-8eb443d00e24');\n",
              "var x = new MutationObserver(function (mutations, observer) {{\n",
              "        var display = window.getComputedStyle(gd).display;\n",
              "        if (!display || display === 'none') {{\n",
              "            console.log([gd, 'removed!']);\n",
              "            Plotly.purge(gd);\n",
              "            observer.disconnect();\n",
              "        }}\n",
              "}});\n",
              "\n",
              "// Listen for the removal of the full notebook cells\n",
              "var notebookContainer = gd.closest('#notebook-container');\n",
              "if (notebookContainer) {{\n",
              "    x.observe(notebookContainer, {childList: true});\n",
              "}}\n",
              "\n",
              "// Listen for the clearing of the current output cell\n",
              "var outputEl = gd.closest('.output');\n",
              "if (outputEl) {{\n",
              "    x.observe(outputEl, {childList: true});\n",
              "}}\n",
              "\n",
              "                        })                };                            </script>        </div>\n",
              "</body>\n",
              "</html>"
            ]
          },
          "metadata": {}
        }
      ]
    }
  ],
  "metadata": {
    "colab": {
      "provenance": [],
      "include_colab_link": true
    },
    "interpreter": {
      "hash": "819a17fb93b16f4342bdb742a13726380cd680d1b7d4139bc745d0271af25a32"
    },
    "kernelspec": {
      "display_name": "Python 3.10.0 64-bit",
      "language": "python",
      "name": "python3"
    },
    "language_info": {
      "codemirror_mode": {
        "name": "ipython",
        "version": 3
      },
      "file_extension": ".py",
      "mimetype": "text/x-python",
      "name": "python",
      "nbconvert_exporter": "python",
      "pygments_lexer": "ipython3",
      "version": "3.10.0"
    },
    "orig_nbformat": 4
  },
  "nbformat": 4,
  "nbformat_minor": 0
}